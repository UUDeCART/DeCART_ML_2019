{
 "cells": [
  {
   "cell_type": "markdown",
   "metadata": {
    "slideshow": {
     "slide_type": "skip"
    }
   },
   "source": [
    "Creative Commons CC BY 4.0 Lynd Bacon & Associates, Ltd. Not warranted to be suitable for any particular purpose. (You're on your own!)"
   ]
  },
  {
   "cell_type": "markdown",
   "metadata": {
    "slideshow": {
     "slide_type": "slide"
    }
   },
   "source": [
    "# Convolutional NN's\n",
    "\n",
    "* [CNNs](https://en.wikipedia.org/wiki/Convolutional_neural_network) are specialized versions of NN's that have been proven to be very effective for applications that include image classification, computer vision and audio processing.\n",
    "* They are \"regularized\" MLPs in the sense that they are:\n",
    "    * Sparse in weights to be learned; layers are not fully connected.\n",
    "    * Combine different kinds specialized layers that perform filtering and information pooling functions.\n",
    "* In their simplest form, they can detect \"features\" (e.g. faces, cats, hotdogs, tumors, etc.) in a _translation invariant_ manner.\n",
    "* Inspired by research on the visual cortex of cats, but can be applied to 1D, 2D, or 3D data (e.g., video.)"
   ]
  },
  {
   "cell_type": "markdown",
   "metadata": {
    "slideshow": {
     "slide_type": "slide"
    }
   },
   "source": [
    "# CNN Layer Functions and Basic Architecture\n",
    "\n",
    "* Typical input data is images represented in arrays of pixels\n",
    "    * The pixels can have _depths_ encoding grayscale or hues.\n",
    "* A _convolutional layer_ is like a filter or \"window\" on the input.\n",
    "    * Sometimes called a \"kernel\"\n",
    "    * Smaller in \"width\" and \"height\" than the pixel data array\n",
    "    * The same depth as a pixel\n",
    "    * Moved in \"strides\" through each array, doing element-wise multiplication and aggregation at each location to create a _feature map_. \n",
    "* A _pooling layer_ is a layer used to reduce the output of a convolutional layer\n",
    "    * The number of neurons in a pooling layer is smaller than the convolutional layer that precedes it.\n",
    "    * Helps to make information in the feature map more invariant to small changes in the input.\n",
    "* A _fully connected layer_ is used to produce class label predictions.\n",
    "    * Assuming a classification problem, of course.\n",
    "    \n",
    "In a typical application _multiple_ convolutional layers and pooling layers are used in order to learn different features in the input data."
   ]
  },
  {
   "cell_type": "markdown",
   "metadata": {
    "slideshow": {
     "slide_type": "slide"
    }
   },
   "source": [
    "<h1>A Better Explanation on YouTube</h1>\n",
    "\n",
    "   \n",
    "[Convolutional Neural Networks (CNNs) explained by DeepLizard](https://www.youtube.com/watch?v=YRhxdVk_sIs)\n"
   ]
  }
 ],
 "metadata": {
  "celltoolbar": "Slideshow",
  "hide_input": false,
  "kernelspec": {
   "display_name": "Python 3",
   "language": "python",
   "name": "python3"
  },
  "language_info": {
   "codemirror_mode": {
    "name": "ipython",
    "version": 3
   },
   "file_extension": ".py",
   "mimetype": "text/x-python",
   "name": "python",
   "nbconvert_exporter": "python",
   "pygments_lexer": "ipython3",
   "version": "3.6.8"
  },
  "latex_envs": {
   "LaTeX_envs_menu_present": true,
   "autoclose": false,
   "autocomplete": true,
   "bibliofile": "biblio.bib",
   "cite_by": "apalike",
   "current_citInitial": 1,
   "eqLabelWithNumbers": true,
   "eqNumInitial": 1,
   "hotkeys": {
    "equation": "Ctrl-E",
    "itemize": "Ctrl-I"
   },
   "labels_anchors": false,
   "latex_user_defs": false,
   "report_style_numbering": false,
   "user_envs_cfg": false
  },
  "toc": {
   "base_numbering": 1,
   "nav_menu": {},
   "number_sections": false,
   "sideBar": false,
   "skip_h1_title": false,
   "title_cell": "Table of Contents",
   "title_sidebar": "Contents",
   "toc_cell": false,
   "toc_position": {},
   "toc_section_display": false,
   "toc_window_display": false
  }
 },
 "nbformat": 4,
 "nbformat_minor": 2
}
