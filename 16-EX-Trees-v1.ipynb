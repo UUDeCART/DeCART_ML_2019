{
 "cells": [
  {
   "cell_type": "markdown",
   "metadata": {},
   "source": [
    "Creative Commons CC BY 4.0 Lynd Bacon & Associates, Ltd. Not warranted to be suitable for any particular purpose. (You're on your own!)"
   ]
  },
  {
   "cell_type": "markdown",
   "metadata": {},
   "source": [
    "# Classification and Regression Trees\n",
    "\n",
    "There are many different algorithms that use tree-structured partitionings of features to predict target variable values.  They include:  \n",
    "\n",
    "* CART\n",
    "* C 5.0\n",
    "* Random Forest (an _ensemble_ method)\n",
    "* CHAID ($\\chi^2$ interaction detection)\n",
    "* Various boosting implmentations\n",
    "\n",
    "## CART \n",
    "\n",
    "CART \"trains\" by recursively partitioning, or splitting the data in a sequence of steps that each attempts to best explain, or discriminate between, target variable labels.  It can be used for regression and for classification problems. In the case of the latter, CART can be used to predict k labels, where k $\\ge$ 2. \n",
    "\n",
    "It is a _greedy algorithm_: it attempts to optimize predictive accuracy binary split by split, rather than on an overall basis.  As a result, it may not find the best, or optimal, tree.  Classifier tree splits are determined based on the resulting quality of the results of the split based on a measure of homogeneity, [_Gini Impurity_](https://en.wikipedia.org/wiki/Decision_tree_learning#Gini_impurity), or in terms of [entropy](https://en.wikipedia.org/wiki/Entropy#Information_theory). The utility of regression tree splits are measured in terms of mean squared predictor error, and variations on it.\n",
    "\n",
    "\n",
    "CART requires making few assumptions about the data.  It tends to overfit.  Overfitting can be mitigated by regularization using hyperparameters that limit tree size, minimum size of the result of a split, the number of features used for splitting, and the final number of distinct partitions of the data.\n",
    "\n",
    "A CART model can be _examined_:  it can be represented as a hierarchy of \"if then\" rules.  It's not \"black box.\"\n",
    "\n",
    "CART and other tree models have some specific terminology:\n",
    "\n",
    "* A partition is called a _node_;\n",
    "* Splits result in _branches_ that lead to new, smaller nodes that descend from \"parent\" nodes;\n",
    "* The final nodes are sometimes called _leaves_.\n",
    "* The pre-split data is usually called the _root_ node.\n",
    "\n",
    "This terminology becomes more clear when looking \n",
    "\n",
    "The CART algorithm was originally described by [Breiman, Freedman, Stone & Olshen (1984)](https://www.amazon.com/Classification-Regression-Wadsworth-Statistics-Probability/dp/0412048418). \n",
    "\n",
    "Let's give using CART on the cervical CA data a try."
   ]
  },
  {
   "cell_type": "code",
   "execution_count": 2,
   "metadata": {},
   "outputs": [],
   "source": [
    "from IPython.core.interactiveshell import InteractiveShell\n",
    "InteractiveShell.ast_node_interactivity = \"all\"\n",
    "from IPython.display import display, Markdown\n",
    "import numpy as np\n",
    "import pandas as pd\n",
    "\n",
    "import matplotlib.pyplot as plt\n",
    "import scikitplot as skplt\n",
    "from sklearn import linear_model\n",
    "from sklearn.model_selection import KFold, StratifiedShuffleSplit\n",
    "from sklearn.model_selection import cross_val_predict, train_test_split\n",
    "from sklearn.model_selection import GridSearchCV\n",
    "from sklearn import preprocessing\n",
    "from sklearn.metrics import accuracy_score, confusion_matrix, roc_auc_score\n",
    "from sklearn.metrics import roc_curve, precision_score, recall_score\n",
    "from sklearn.naive_bayes import GaussianNB\n",
    "import pickle\n",
    "import os\n",
    "import shelve\n",
    "from sklearn.tree import DecisionTreeClassifier, export_graphviz \n",
    "%matplotlib inline\n"
   ]
  },
  {
   "cell_type": "markdown",
   "metadata": {},
   "source": [
    "# Getting the Data\n",
    "\n",
    "Let's get the data in that `shelve` database. \n",
    "\n",
    "Assuming they are in the data subdirectory of the current pwd: (Adjust as necessary)"
   ]
  },
  {
   "cell_type": "code",
   "execution_count": 3,
   "metadata": {},
   "outputs": [],
   "source": [
    "with shelve.open('DATA/ML/cervical') as sdb:\n",
    "    cervical=sdb['cervical']  # this should be aPandas DataFrame\n",
    "    cervical2=sdb['cervical2']  # this should be, too"
   ]
  },
  {
   "cell_type": "code",
   "execution_count": 3,
   "metadata": {},
   "outputs": [],
   "source": [
    "X=cervical2.iloc[:,1:].to_numpy()\n",
    "y=cervical2.iloc[:,0].to_numpy()\n",
    "feat_nams=cervical2.columns.to_list()[1:]"
   ]
  },
  {
   "cell_type": "markdown",
   "metadata": {},
   "source": [
    "# CART Classifier"
   ]
  },
  {
   "cell_type": "markdown",
   "metadata": {},
   "source": [
    "Here we're using the [scikit-learn DecisionTreeClassifier](https://scikit-learn.org/stable/modules/generated/sklearn.tree.DecisionTreeClassifier.html#sklearn.tree.DecisionTreeClassifier):"
   ]
  },
  {
   "cell_type": "code",
   "execution_count": 4,
   "metadata": {},
   "outputs": [],
   "source": [
    "cTree=DecisionTreeClassifier(max_depth=2,\n",
    "                             min_samples_leaf=20,\n",
    "                             min_samples_split=50)\n",
    "tree_clf1=cTree.fit(X,y)"
   ]
  },
  {
   "cell_type": "code",
   "execution_count": 5,
   "metadata": {},
   "outputs": [],
   "source": [
    "# export to dot file, use the dot program to create a png file.\n",
    "export_graphviz(\n",
    "    tree_clf1,\n",
    "     out_file='cTree4.dot',  #doesn't seem to overwrite by default\n",
    "    feature_names=feat_nams,\n",
    "    rounded=True,\n",
    "    filled=True\n",
    ")"
   ]
  },
  {
   "cell_type": "markdown",
   "metadata": {},
   "source": [
    "After exporting the dot file, it is converted to a png file using the dot program from the command prompt. Then the png is inserted into this Notebook:"
   ]
  },
  {
   "cell_type": "raw",
   "metadata": {},
   "source": [
    "# dot program command; > is the terminal command prompt:\n",
    "\n",
    "> dot -Tpng cTree.dot -o cTree.png\n",
    "\n",
    "Then in a markdown cell, do something like the following:\n",
    "\n",
    "![cTree](cTree.png)"
   ]
  },
  {
   "cell_type": "markdown",
   "metadata": {},
   "source": [
    "![cTree](cTree4.png)"
   ]
  },
  {
   "cell_type": "markdown",
   "metadata": {},
   "source": [
    "## CART Predictions, etc.\n",
    "\n",
    "Predictions can be obtained from either type of CART model.  Here we'll examine the predictions the classifier above produces."
   ]
  },
  {
   "cell_type": "code",
   "execution_count": 6,
   "metadata": {},
   "outputs": [],
   "source": [
    "cervPred=tree_clf1.predict(X)\n",
    "cervPredProb=tree_clf1.predict_proba(X)"
   ]
  },
  {
   "cell_type": "markdown",
   "metadata": {},
   "source": [
    "## Accuracy, AUC"
   ]
  },
  {
   "cell_type": "code",
   "execution_count": 7,
   "metadata": {},
   "outputs": [
    {
     "name": "stdout",
     "output_type": "stream",
     "text": [
      "CART accuracy: 0.932 AUC: 0.600\n"
     ]
    }
   ],
   "source": [
    "print(\"CART accuracy: {:5.3f} AUC: {:5.3f}\".format(\n",
    "        accuracy_score(y,cervPred),\n",
    "        roc_auc_score(y,cervPredProb[:,1]))\n",
    "     )"
   ]
  },
  {
   "cell_type": "markdown",
   "metadata": {},
   "source": [
    "# Precision and Recall"
   ]
  },
  {
   "cell_type": "raw",
   "metadata": {},
   "source": [
    "print(\"CART precision: {:5.3f} Recall: {:5.3f}\".format(\n",
    "        precision_score(y,cervPredProb),\n",
    "        recall_score(y,cervPredProb))\n",
    "     )"
   ]
  },
  {
   "cell_type": "code",
   "execution_count": 8,
   "metadata": {
    "collapsed": true
   },
   "outputs": [
    {
     "data": {
      "image/png": "[encoded data removed]",
      "text/plain": [
       "<Figure size 504x504 with 1 Axes>"
      ]
     },
     "metadata": {
      "needs_background": "light"
     },
     "output_type": "display_data"
    }
   ],
   "source": [
    "skplt.metrics.plot_precision_recall(y, cervPredProb,\n",
    "        plot_micro=False,\n",
    "        figsize=(7,7),\n",
    "        classes_to_plot=1,\n",
    "        title='CART Classifier PR Curve');"
   ]
  },
  {
   "cell_type": "markdown",
   "metadata": {},
   "source": [
    "**Question**:  Why do you think there's an \"elbow\" in the above Precision/Recall graph?"
   ]
  },
  {
   "cell_type": "markdown",
   "metadata": {},
   "source": [
    "# UDU: Grid Search and CV for Better CARTing\n",
    "\n",
    "There are tools in other (non-Python) environments for \"pruning\" CART trees so as to reduce overfitting.  Another way of getting a good CART model is by doing a grid search over tree parameters.  Try that here.  The following code will give you a start.  Give at go at manipulating the parameter values that are searched.  Try adding additional parameters with values to search over.\n",
    "\n",
    "Did your results produce anything really useful?"
   ]
  },
  {
   "cell_type": "code",
   "execution_count": 9,
   "metadata": {},
   "outputs": [],
   "source": [
    "X_train, X_test, y_train, y_test = train_test_split(X, y, random_state=99)"
   ]
  },
  {
   "cell_type": "markdown",
   "metadata": {},
   "source": [
    "Here are the parameters that values can be searched for:"
   ]
  },
  {
   "cell_type": "code",
   "execution_count": 10,
   "metadata": {},
   "outputs": [
    {
     "name": "stdout",
     "output_type": "stream",
     "text": [
      "Tree Parameters:\n"
     ]
    },
    {
     "data": {
      "text/plain": [
       "dict_keys(['class_weight', 'criterion', 'max_depth', 'max_features', 'max_leaf_nodes', 'min_impurity_decrease', 'min_impurity_split', 'min_samples_leaf', 'min_samples_split', 'min_weight_fraction_leaf', 'presort', 'random_state', 'splitter'])"
      ]
     },
     "execution_count": 10,
     "metadata": {},
     "output_type": "execute_result"
    }
   ],
   "source": [
    "treeclf=DecisionTreeClassifier(criterion='entropy',random_state=99)\n",
    "print(\"Tree Parameters:\")\n",
    "treeclf.get_params().keys()"
   ]
  },
  {
   "cell_type": "code",
   "execution_count": 11,
   "metadata": {
    "collapsed": true
   },
   "outputs": [
    {
     "name": "stderr",
     "output_type": "stream",
     "text": [
      "/home/lynd/anaconda3/lib/python3.6/site-packages/sklearn/model_selection/_search.py:813: DeprecationWarning: The default of the `iid` parameter will change from True to False in version 0.22 and will be removed in 0.24. This will change numeric results when test-set sizes are unequal.\n",
      "  DeprecationWarning)\n"
     ]
    },
    {
     "data": {
      "text/plain": [
       "GridSearchCV(cv=20, error_score='raise-deprecating',\n",
       "             estimator=DecisionTreeClassifier(class_weight=None,\n",
       "                                              criterion='entropy',\n",
       "                                              max_depth=None, max_features=None,\n",
       "                                              max_leaf_nodes=None,\n",
       "                                              min_impurity_decrease=0.0,\n",
       "                                              min_impurity_split=None,\n",
       "                                              min_samples_leaf=1,\n",
       "                                              min_samples_split=2,\n",
       "                                              min_weight_fraction_leaf=0.0,\n",
       "                                              presort=False, random_state=99,\n",
       "                                              splitter='best'),\n",
       "             iid='warn', n_jobs=None,\n",
       "             param_grid={'max_depth': [2, 3, 4], 'max_features': [3, 5, 7],\n",
       "                         'min_samples_leaf': [10, 20]},\n",
       "             pre_dispatch='2*n_jobs', refit=True, return_train_score=False,\n",
       "             scoring=None, verbose=0)"
      ]
     },
     "execution_count": 11,
     "metadata": {},
     "output_type": "execute_result"
    }
   ],
   "source": [
    "param_grid={'max_depth':[2,3,4],'min_samples_leaf':[10,20],\n",
    "            'max_features':[3,5,7]}\n",
    "grid=GridSearchCV(treeclf,param_grid=param_grid,cv=20)\n",
    "grid.fit(X_train,y_train)"
   ]
  },
  {
   "cell_type": "code",
   "execution_count": 12,
   "metadata": {},
   "outputs": [
    {
     "name": "stdout",
     "output_type": "stream",
     "text": [
      "Best cross-validation accuracy: 0.9270\n",
      "Test set score: 0.9467\n",
      "Best parameters: {'max_depth': 2, 'max_features': 3, 'min_samples_leaf': 10}\n"
     ]
    }
   ],
   "source": [
    "print(\"Best cross-validation accuracy: {:.4f}\".format(grid.best_score_))\n",
    "print(\"Test set score: {:.4f}\".format(grid.score(X_test, y_test)))\n",
    "print(\"Best parameters: {}\".format(grid.best_params_))"
   ]
  },
  {
   "cell_type": "code",
   "execution_count": 112,
   "metadata": {},
   "outputs": [],
   "source": [
    "# Use the following to examine cv_results. \n",
    "\n",
    "# pd.DataFrame(grid.cv_results_)"
   ]
  },
  {
   "cell_type": "markdown",
   "metadata": {},
   "source": [
    "## \"Best\" Tree Based On Grid Search  \n",
    "\n",
    "Assuming that you get a \"best\" tree that is really any better than any other tree, of course.\n",
    "\n",
    "\\*\\*grid_best_params_, below, is a dict of parameter key value pairs.  It should be like the dict that's output, above."
   ]
  },
  {
   "cell_type": "code",
   "execution_count": 15,
   "metadata": {},
   "outputs": [],
   "source": [
    "# Get the best tree based on the search\n",
    "\n",
    "bestTree=DecisionTreeClassifier(**grid.best_params_)  \n",
    "\n",
    "# Fit this tree using the training data\n",
    "\n",
    "bestTreeFit=bestTree.fit(X_train,y_train)"
   ]
  },
  {
   "cell_type": "markdown",
   "metadata": {},
   "source": [
    "## Feature Importances\n",
    "\n",
    "Importance here is a normalized measure of the extent to which splits based on a feature reduce the fitting criterion, either _gini impurity_ or _entropy_. \n",
    "\n",
    "Your results will vary."
   ]
  },
  {
   "cell_type": "code",
   "execution_count": 16,
   "metadata": {},
   "outputs": [
    {
     "data": {
      "text/plain": [
       "array([0.64038214, 0.        , 0.        , 0.        , 0.        ,\n",
       "       0.        , 0.        , 0.        , 0.35961786])"
      ]
     },
     "execution_count": 16,
     "metadata": {},
     "output_type": "execute_result"
    }
   ],
   "source": [
    "bestTree.feature_importances_ "
   ]
  }
 ],
 "metadata": {
  "hide_input": false,
  "kernelspec": {
   "display_name": "Python 3",
   "language": "python",
   "name": "python3"
  },
  "language_info": {
   "codemirror_mode": {
    "name": "ipython",
    "version": 3
   },
   "file_extension": ".py",
   "mimetype": "text/x-python",
   "name": "python",
   "nbconvert_exporter": "python",
   "pygments_lexer": "ipython3",
   "version": "3.6.8"
  },
  "latex_envs": {
   "LaTeX_envs_menu_present": true,
   "autoclose": false,
   "autocomplete": true,
   "bibliofile": "biblio.bib",
   "cite_by": "apalike",
   "current_citInitial": 1,
   "eqLabelWithNumbers": true,
   "eqNumInitial": 1,
   "hotkeys": {
    "equation": "Ctrl-E",
    "itemize": "Ctrl-I"
   },
   "labels_anchors": false,
   "latex_user_defs": false,
   "report_style_numbering": false,
   "user_envs_cfg": false
  },
  "toc": {
   "base_numbering": 1,
   "nav_menu": {},
   "number_sections": false,
   "sideBar": false,
   "skip_h1_title": false,
   "title_cell": "Table of Contents",
   "title_sidebar": "Contents",
   "toc_cell": false,
   "toc_position": {
    "height": "calc(100% - 180px)",
    "left": "10px",
    "top": "150px",
    "width": "313.4px"
   },
   "toc_section_display": false,
   "toc_window_display": false
  }
 },
 "nbformat": 4,
 "nbformat_minor": 2
}
