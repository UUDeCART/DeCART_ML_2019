{
 "cells": [
  {
   "cell_type": "markdown",
   "metadata": {},
   "source": [
    "Creative Commons CC BY 4.0 Lynd Bacon & Associates, Ltd. Not warranted to be suitable for any particular purpose. (You're on your own!)"
   ]
  },
  {
   "cell_type": "markdown",
   "metadata": {},
   "source": [
    "# K-Fold Cross-Validation for Regression\n",
    "\n",
    "In the following we're going to apply the _K-fold cross-validation_ method to assess model performance on data that the model \"hasn't seen.\""
   ]
  },
  {
   "cell_type": "markdown",
   "metadata": {},
   "source": [
    "## Preliminaries\n",
    "\n",
    "Let's first do some set-ups, and get some packages we're going to need."
   ]
  },
  {
   "cell_type": "code",
   "execution_count": 1,
   "metadata": {},
   "outputs": [],
   "source": [
    "from IPython.core.interactiveshell import InteractiveShell\n",
    "InteractiveShell.ast_node_interactivity = \"all\"\n",
    "\n",
    "import numpy as np\n",
    "import pandas as pd\n",
    "import seaborn as sns\n",
    "%matplotlib inline\n",
    "import matplotlib.pyplot as plt\n",
    "\n",
    "from sklearn import linear_model  # OLS \n",
    "from sklearn.metrics import mean_squared_error, r2_score, SCORERS # Basic metrics\n",
    "from sklearn.model_selection import KFold\n",
    "from sklearn.model_selection import cross_validate, cross_val_predict"
   ]
  },
  {
   "cell_type": "markdown",
   "metadata": {},
   "source": [
    "# Data Input and Preprocessing\n",
    "\n",
    "Let's get the patient satisfaction data in the file `DECART-patSat.csv` into a Pandas DataFrame, and then extract into a numpy array the data we want to use."
   ]
  },
  {
   "cell_type": "code",
   "execution_count": 2,
   "metadata": {},
   "outputs": [
    {
     "data": {
      "text/plain": [
       "Index(['caseID', 'patSat', 'q2', 'q3', 'q4', 'q5', 'q6', 'q7', 'q8', 'q9',\n",
       "       'ptCat'],\n",
       "      dtype='object')"
      ]
     },
     "execution_count": 2,
     "metadata": {},
     "output_type": "execute_result"
    }
   ],
   "source": [
    "ptSatDF=pd.read_csv('DATA/ML/DECART-patSat.csv')\n",
    "ptSatDF.columns"
   ]
  },
  {
   "cell_type": "markdown",
   "metadata": {},
   "source": [
    "That `ptCat` variable is categorical:"
   ]
  },
  {
   "cell_type": "code",
   "execution_count": 3,
   "metadata": {},
   "outputs": [
    {
     "data": {
      "text/plain": [
       "1    679\n",
       "0    596\n",
       "2    536\n",
       "Name: ptCat, dtype: int64"
      ]
     },
     "execution_count": 3,
     "metadata": {},
     "output_type": "execute_result"
    }
   ],
   "source": [
    "ptSatDF.ptCat.value_counts()"
   ]
  },
  {
   "cell_type": "markdown",
   "metadata": {},
   "source": [
    "## Dummy Coding, or \"OneHot\" Coding\n",
    "\n",
    "To use `ptCat` in a regression model we need to code it somehow.  Let's \"dummy\" (zero/one) code it, omitting the first category:"
   ]
  },
  {
   "cell_type": "code",
   "execution_count": 4,
   "metadata": {},
   "outputs": [
    {
     "data": {
      "text/plain": [
       "Index(['patSat', 'q2', 'q3', 'q4', 'q5', 'q6', 'q7', 'q8', 'q9', 'ptCat1',\n",
       "       'ptCat2'],\n",
       "      dtype='object')"
      ]
     },
     "execution_count": 4,
     "metadata": {},
     "output_type": "execute_result"
    }
   ],
   "source": [
    "ptSatDF[['ptCat1','ptCat2']]=pd.get_dummies(ptSatDF.ptCat,drop_first=True)\n",
    "ptSatDF2=ptSatDF.drop(['ptCat','caseID'],axis=1)\n",
    "ptSatDF2.columns"
   ]
  },
  {
   "cell_type": "markdown",
   "metadata": {},
   "source": [
    "## Effects Coding of Categorical Predictor Variables Digression"
   ]
  },
  {
   "cell_type": "markdown",
   "metadata": {},
   "source": [
    "If we wanted _effects_ coding of `ptCat` instead of dummy coding, we could just dummy code first, omitting the reference category, and then replace every pair of zeros with a pair of -1's.   \n",
    "\n",
    "See if the following works to do this for you, or if it produces unexpected results."
   ]
  },
  {
   "cell_type": "code",
   "execution_count": 5,
   "metadata": {},
   "outputs": [
    {
     "data": {
      "text/html": [
       "<div>\n",
       "<style scoped>\n",
       "    .dataframe tbody tr th:only-of-type {\n",
       "        vertical-align: middle;\n",
       "    }\n",
       "\n",
       "    .dataframe tbody tr th {\n",
       "        vertical-align: top;\n",
       "    }\n",
       "\n",
       "    .dataframe thead th {\n",
       "        text-align: right;\n",
       "    }\n",
       "</style>\n",
       "<table border=\"1\" class=\"dataframe\">\n",
       "  <thead>\n",
       "    <tr style=\"text-align: right;\">\n",
       "      <th></th>\n",
       "      <th>1</th>\n",
       "      <th>2</th>\n",
       "    </tr>\n",
       "  </thead>\n",
       "  <tbody>\n",
       "    <tr>\n",
       "      <th>0</th>\n",
       "      <td>255</td>\n",
       "      <td>255</td>\n",
       "    </tr>\n",
       "    <tr>\n",
       "      <th>1</th>\n",
       "      <td>0</td>\n",
       "      <td>1</td>\n",
       "    </tr>\n",
       "    <tr>\n",
       "      <th>3</th>\n",
       "      <td>1</td>\n",
       "      <td>0</td>\n",
       "    </tr>\n",
       "  </tbody>\n",
       "</table>\n",
       "</div>"
      ],
      "text/plain": [
       "     1    2\n",
       "0  255  255\n",
       "1    0    1\n",
       "3    1    0"
      ]
     },
     "execution_count": 5,
     "metadata": {},
     "output_type": "execute_result"
    }
   ],
   "source": [
    "ptCat=ptSatDF.ptCat.to_numpy()   # select the ptCat col\n",
    "pcEC=pd.get_dummies(ptCat,drop_first=True)\n",
    "rowTot=pcEC.apply(sum,axis=1)  # calc row totals\n",
    "a=-1\n",
    "pcEC.loc[rowTot==0]=a\n",
    "pcEC.drop_duplicates()"
   ]
  },
  {
   "cell_type": "markdown",
   "metadata": {},
   "source": [
    "## Creating numpy Arrays for CV Training and Testing"
   ]
  },
  {
   "cell_type": "markdown",
   "metadata": {},
   "source": [
    "Let's now make the numpy objects we're going to feed into our regression model."
   ]
  },
  {
   "cell_type": "code",
   "execution_count": 6,
   "metadata": {},
   "outputs": [
    {
     "data": {
      "text/plain": [
       "(1811, 10)"
      ]
     },
     "execution_count": 6,
     "metadata": {},
     "output_type": "execute_result"
    },
    {
     "data": {
      "text/plain": [
       "(1811,)"
      ]
     },
     "execution_count": 6,
     "metadata": {},
     "output_type": "execute_result"
    },
    {
     "data": {
      "text/plain": [
       "1"
      ]
     },
     "execution_count": 6,
     "metadata": {},
     "output_type": "execute_result"
    }
   ],
   "source": [
    "ptSatX=ptSatDF2.iloc[:,1:].to_numpy()  # predictor vars\n",
    "ptSatY=ptSatDF2.iloc[:,0].to_numpy()   # pt satisfaction dep var\n",
    "ptSatX.shape  # Just checking\n",
    "ptSatY.shape\n",
    "ptSatY.min()"
   ]
  },
  {
   "cell_type": "markdown",
   "metadata": {},
   "source": [
    " # A Simple Way To Do K Fold Cross-Validation\n",
    "\n",
    "Here we do 10 fold CV, retaining fit and timing metrics"
   ]
  },
  {
   "cell_type": "code",
   "execution_count": 7,
   "metadata": {},
   "outputs": [],
   "source": [
    "np.random.seed(57)"
   ]
  },
  {
   "cell_type": "markdown",
   "metadata": {},
   "source": [
    "### Available Metrics\n",
    "\n",
    "These are for a variety of \"learner\" model types."
   ]
  },
  {
   "cell_type": "code",
   "execution_count": 50,
   "metadata": {},
   "outputs": [],
   "source": [
    "# Here's what the available metrics are. Uncomment and exec to list them.\n",
    "# sorted(SCORERS.keys())"
   ]
  },
  {
   "cell_type": "code",
   "execution_count": 8,
   "metadata": {},
   "outputs": [],
   "source": [
    "regr=linear_model.LinearRegression()  # lin reg model w/ defaults\n",
    "scoring=['r2','neg_mean_squared_error','explained_variance'] # list of metrics to be returned\n",
    "scores = cross_validate(regr, ptSatX, ptSatY, cv=10,\n",
    "                               scoring=scoring,\n",
    "                       return_train_score=True)"
   ]
  },
  {
   "cell_type": "markdown",
   "metadata": {},
   "source": [
    "`scores` should be a python dict.  We can make it easier to inspect by making a DataFrame using it."
   ]
  },
  {
   "cell_type": "code",
   "execution_count": 9,
   "metadata": {
    "collapsed": true
   },
   "outputs": [
    {
     "data": {
      "text/html": [
       "<div>\n",
       "<style scoped>\n",
       "    .dataframe tbody tr th:only-of-type {\n",
       "        vertical-align: middle;\n",
       "    }\n",
       "\n",
       "    .dataframe tbody tr th {\n",
       "        vertical-align: top;\n",
       "    }\n",
       "\n",
       "    .dataframe thead th {\n",
       "        text-align: right;\n",
       "    }\n",
       "</style>\n",
       "<table border=\"1\" class=\"dataframe\">\n",
       "  <thead>\n",
       "    <tr style=\"text-align: right;\">\n",
       "      <th></th>\n",
       "      <th>fit_time</th>\n",
       "      <th>score_time</th>\n",
       "      <th>test_r2</th>\n",
       "      <th>train_r2</th>\n",
       "      <th>test_neg_mean_squared_error</th>\n",
       "      <th>train_neg_mean_squared_error</th>\n",
       "      <th>test_explained_variance</th>\n",
       "      <th>train_explained_variance</th>\n",
       "    </tr>\n",
       "  </thead>\n",
       "  <tbody>\n",
       "    <tr>\n",
       "      <th>0</th>\n",
       "      <td>0.001269</td>\n",
       "      <td>0.001168</td>\n",
       "      <td>0.744029</td>\n",
       "      <td>0.701565</td>\n",
       "      <td>-1.811215</td>\n",
       "      <td>-1.919569</td>\n",
       "      <td>0.744030</td>\n",
       "      <td>0.701565</td>\n",
       "    </tr>\n",
       "    <tr>\n",
       "      <th>1</th>\n",
       "      <td>0.000879</td>\n",
       "      <td>0.000907</td>\n",
       "      <td>0.692256</td>\n",
       "      <td>0.707983</td>\n",
       "      <td>-2.206559</td>\n",
       "      <td>-1.876766</td>\n",
       "      <td>0.692308</td>\n",
       "      <td>0.707983</td>\n",
       "    </tr>\n",
       "    <tr>\n",
       "      <th>2</th>\n",
       "      <td>0.000824</td>\n",
       "      <td>0.000896</td>\n",
       "      <td>0.731350</td>\n",
       "      <td>0.704014</td>\n",
       "      <td>-1.600421</td>\n",
       "      <td>-1.941993</td>\n",
       "      <td>0.731660</td>\n",
       "      <td>0.704014</td>\n",
       "    </tr>\n",
       "    <tr>\n",
       "      <th>3</th>\n",
       "      <td>0.000833</td>\n",
       "      <td>0.000896</td>\n",
       "      <td>0.643689</td>\n",
       "      <td>0.712851</td>\n",
       "      <td>-2.194789</td>\n",
       "      <td>-1.877032</td>\n",
       "      <td>0.649401</td>\n",
       "      <td>0.712851</td>\n",
       "    </tr>\n",
       "    <tr>\n",
       "      <th>4</th>\n",
       "      <td>0.001951</td>\n",
       "      <td>0.000885</td>\n",
       "      <td>0.683885</td>\n",
       "      <td>0.708667</td>\n",
       "      <td>-2.001926</td>\n",
       "      <td>-1.898538</td>\n",
       "      <td>0.684635</td>\n",
       "      <td>0.708667</td>\n",
       "    </tr>\n",
       "    <tr>\n",
       "      <th>5</th>\n",
       "      <td>0.001951</td>\n",
       "      <td>0.000891</td>\n",
       "      <td>0.668084</td>\n",
       "      <td>0.710313</td>\n",
       "      <td>-2.085132</td>\n",
       "      <td>-1.888684</td>\n",
       "      <td>0.672082</td>\n",
       "      <td>0.710313</td>\n",
       "    </tr>\n",
       "    <tr>\n",
       "      <th>6</th>\n",
       "      <td>0.001938</td>\n",
       "      <td>0.000890</td>\n",
       "      <td>0.715595</td>\n",
       "      <td>0.705548</td>\n",
       "      <td>-1.710859</td>\n",
       "      <td>-1.928804</td>\n",
       "      <td>0.716347</td>\n",
       "      <td>0.705548</td>\n",
       "    </tr>\n",
       "    <tr>\n",
       "      <th>7</th>\n",
       "      <td>0.001943</td>\n",
       "      <td>0.000894</td>\n",
       "      <td>0.687332</td>\n",
       "      <td>0.708571</td>\n",
       "      <td>-2.324607</td>\n",
       "      <td>-1.862466</td>\n",
       "      <td>0.687441</td>\n",
       "      <td>0.708571</td>\n",
       "    </tr>\n",
       "    <tr>\n",
       "      <th>8</th>\n",
       "      <td>0.001950</td>\n",
       "      <td>0.000894</td>\n",
       "      <td>0.680903</td>\n",
       "      <td>0.708593</td>\n",
       "      <td>-1.912441</td>\n",
       "      <td>-1.907681</td>\n",
       "      <td>0.680906</td>\n",
       "      <td>0.708593</td>\n",
       "    </tr>\n",
       "    <tr>\n",
       "      <th>9</th>\n",
       "      <td>0.001962</td>\n",
       "      <td>0.000899</td>\n",
       "      <td>0.742841</td>\n",
       "      <td>0.702754</td>\n",
       "      <td>-1.600901</td>\n",
       "      <td>-1.940552</td>\n",
       "      <td>0.743057</td>\n",
       "      <td>0.702754</td>\n",
       "    </tr>\n",
       "  </tbody>\n",
       "</table>\n",
       "</div>"
      ],
      "text/plain": [
       "   fit_time  score_time   test_r2  train_r2  test_neg_mean_squared_error  \\\n",
       "0  0.001269    0.001168  0.744029  0.701565                    -1.811215   \n",
       "1  0.000879    0.000907  0.692256  0.707983                    -2.206559   \n",
       "2  0.000824    0.000896  0.731350  0.704014                    -1.600421   \n",
       "3  0.000833    0.000896  0.643689  0.712851                    -2.194789   \n",
       "4  0.001951    0.000885  0.683885  0.708667                    -2.001926   \n",
       "5  0.001951    0.000891  0.668084  0.710313                    -2.085132   \n",
       "6  0.001938    0.000890  0.715595  0.705548                    -1.710859   \n",
       "7  0.001943    0.000894  0.687332  0.708571                    -2.324607   \n",
       "8  0.001950    0.000894  0.680903  0.708593                    -1.912441   \n",
       "9  0.001962    0.000899  0.742841  0.702754                    -1.600901   \n",
       "\n",
       "   train_neg_mean_squared_error  test_explained_variance  \\\n",
       "0                     -1.919569                 0.744030   \n",
       "1                     -1.876766                 0.692308   \n",
       "2                     -1.941993                 0.731660   \n",
       "3                     -1.877032                 0.649401   \n",
       "4                     -1.898538                 0.684635   \n",
       "5                     -1.888684                 0.672082   \n",
       "6                     -1.928804                 0.716347   \n",
       "7                     -1.862466                 0.687441   \n",
       "8                     -1.907681                 0.680906   \n",
       "9                     -1.940552                 0.743057   \n",
       "\n",
       "   train_explained_variance  \n",
       "0                  0.701565  \n",
       "1                  0.707983  \n",
       "2                  0.704014  \n",
       "3                  0.712851  \n",
       "4                  0.708667  \n",
       "5                  0.710313  \n",
       "6                  0.705548  \n",
       "7                  0.708571  \n",
       "8                  0.708593  \n",
       "9                  0.702754  "
      ]
     },
     "execution_count": 9,
     "metadata": {},
     "output_type": "execute_result"
    }
   ],
   "source": [
    "# type(scores)\n",
    "# scores.keys()\n",
    "# scores.values()\n",
    "pd.DataFrame(scores)"
   ]
  },
  {
   "cell_type": "markdown",
   "metadata": {},
   "source": [
    "Summarizing the folds' statistics:"
   ]
  },
  {
   "cell_type": "code",
   "execution_count": 11,
   "metadata": {
    "collapsed": true
   },
   "outputs": [
    {
     "data": {
      "text/html": [
       "<div>\n",
       "<style scoped>\n",
       "    .dataframe tbody tr th:only-of-type {\n",
       "        vertical-align: middle;\n",
       "    }\n",
       "\n",
       "    .dataframe tbody tr th {\n",
       "        vertical-align: top;\n",
       "    }\n",
       "\n",
       "    .dataframe thead th {\n",
       "        text-align: right;\n",
       "    }\n",
       "</style>\n",
       "<table border=\"1\" class=\"dataframe\">\n",
       "  <thead>\n",
       "    <tr style=\"text-align: right;\">\n",
       "      <th></th>\n",
       "      <th>fit_time</th>\n",
       "      <th>score_time</th>\n",
       "      <th>test_r2</th>\n",
       "      <th>train_r2</th>\n",
       "      <th>test_neg_mean_squared_error</th>\n",
       "      <th>train_neg_mean_squared_error</th>\n",
       "    </tr>\n",
       "  </thead>\n",
       "  <tbody>\n",
       "    <tr>\n",
       "      <th>count</th>\n",
       "      <td>10.000000</td>\n",
       "      <td>10.000000</td>\n",
       "      <td>10.000000</td>\n",
       "      <td>10.000000</td>\n",
       "      <td>10.000000</td>\n",
       "      <td>10.000000</td>\n",
       "    </tr>\n",
       "    <tr>\n",
       "      <th>mean</th>\n",
       "      <td>0.001304</td>\n",
       "      <td>0.000604</td>\n",
       "      <td>0.698996</td>\n",
       "      <td>0.707086</td>\n",
       "      <td>-1.944885</td>\n",
       "      <td>-1.904209</td>\n",
       "    </tr>\n",
       "    <tr>\n",
       "      <th>std</th>\n",
       "      <td>0.000466</td>\n",
       "      <td>0.000144</td>\n",
       "      <td>0.033374</td>\n",
       "      <td>0.003535</td>\n",
       "      <td>0.260065</td>\n",
       "      <td>0.028104</td>\n",
       "    </tr>\n",
       "    <tr>\n",
       "      <th>min</th>\n",
       "      <td>0.000618</td>\n",
       "      <td>0.000323</td>\n",
       "      <td>0.643689</td>\n",
       "      <td>0.701565</td>\n",
       "      <td>-2.324607</td>\n",
       "      <td>-1.941993</td>\n",
       "    </tr>\n",
       "    <tr>\n",
       "      <th>25%</th>\n",
       "      <td>0.001112</td>\n",
       "      <td>0.000584</td>\n",
       "      <td>0.681648</td>\n",
       "      <td>0.704397</td>\n",
       "      <td>-2.167375</td>\n",
       "      <td>-1.926495</td>\n",
       "    </tr>\n",
       "    <tr>\n",
       "      <th>50%</th>\n",
       "      <td>0.001200</td>\n",
       "      <td>0.000628</td>\n",
       "      <td>0.689794</td>\n",
       "      <td>0.708277</td>\n",
       "      <td>-1.957183</td>\n",
       "      <td>-1.903110</td>\n",
       "    </tr>\n",
       "    <tr>\n",
       "      <th>75%</th>\n",
       "      <td>0.001415</td>\n",
       "      <td>0.000649</td>\n",
       "      <td>0.727411</td>\n",
       "      <td>0.708648</td>\n",
       "      <td>-1.735948</td>\n",
       "      <td>-1.879945</td>\n",
       "    </tr>\n",
       "    <tr>\n",
       "      <th>max</th>\n",
       "      <td>0.002412</td>\n",
       "      <td>0.000875</td>\n",
       "      <td>0.744029</td>\n",
       "      <td>0.712851</td>\n",
       "      <td>-1.600421</td>\n",
       "      <td>-1.862466</td>\n",
       "    </tr>\n",
       "  </tbody>\n",
       "</table>\n",
       "</div>"
      ],
      "text/plain": [
       "        fit_time  score_time    test_r2   train_r2  \\\n",
       "count  10.000000   10.000000  10.000000  10.000000   \n",
       "mean    0.001304    0.000604   0.698996   0.707086   \n",
       "std     0.000466    0.000144   0.033374   0.003535   \n",
       "min     0.000618    0.000323   0.643689   0.701565   \n",
       "25%     0.001112    0.000584   0.681648   0.704397   \n",
       "50%     0.001200    0.000628   0.689794   0.708277   \n",
       "75%     0.001415    0.000649   0.727411   0.708648   \n",
       "max     0.002412    0.000875   0.744029   0.712851   \n",
       "\n",
       "       test_neg_mean_squared_error  train_neg_mean_squared_error  \n",
       "count                    10.000000                     10.000000  \n",
       "mean                     -1.944885                     -1.904209  \n",
       "std                       0.260065                      0.028104  \n",
       "min                      -2.324607                     -1.941993  \n",
       "25%                      -2.167375                     -1.926495  \n",
       "50%                      -1.957183                     -1.903110  \n",
       "75%                      -1.735948                     -1.879945  \n",
       "max                      -1.600421                     -1.862466  "
      ]
     },
     "execution_count": 11,
     "metadata": {},
     "output_type": "execute_result"
    }
   ],
   "source": [
    "pd.DataFrame(scores).describe()"
   ]
  },
  {
   "cell_type": "markdown",
   "metadata": {},
   "source": [
    "# Predictions From Cross-Validated Model\n",
    "\n",
    "Predicted values for the dependent measure based on the _test_ cv folds can be obtained for Dx purposes."
   ]
  },
  {
   "cell_type": "code",
   "execution_count": 10,
   "metadata": {},
   "outputs": [],
   "source": [
    "# Predicted patient satisfaction ratings\n",
    "\n",
    "# regrCVpreds will be a 1D array of predicted values based on test data\n",
    " \n",
    "regrCVPreds=cross_val_predict(regr,ptSatX,ptSatY,cv=10,n_jobs=-1)"
   ]
  },
  {
   "cell_type": "markdown",
   "metadata": {},
   "source": [
    "### Plot of Predicted Based on Test Folds vs. Actual\n",
    "\n",
    "Note the semicolon at the end of the last line.  Remove it and run the following cell again to see what it does."
   ]
  },
  {
   "cell_type": "code",
   "execution_count": 11,
   "metadata": {},
   "outputs": [
    {
     "data": {
      "image/png": "[encoded data removed]",
      "text/plain": [
       "<Figure size 576x576 with 1 Axes>"
      ]
     },
     "metadata": {
      "needs_background": "light"
     },
     "output_type": "display_data"
    }
   ],
   "source": [
    "\n",
    "# points=plt.scatter(ptSatY,regrCVPreds,alpha=0.1)\n",
    "plt.figure(figsize=(8,8))\n",
    "plot=sns.regplot(ptSatY,regrCVPreds,\n",
    "                 scatter=True,\n",
    "                 color='.1',x_jitter=.2,\n",
    "                 scatter_kws={\"alpha\":0.4,\"color\":\"grey\"})\n",
    "\n",
    "plt.xlim(0.5,10.5)\n",
    "\n",
    "plot=plot.set(xlabel='PT Sat Rating',ylabel='Predicted Rating');"
   ]
  },
  {
   "cell_type": "markdown",
   "metadata": {},
   "source": [
    "# Another Way to Do the Kfold Shuffle\n",
    "\n",
    "Let's use the `radon` data and try cross-validation in a slightly different way."
   ]
  },
  {
   "cell_type": "code",
   "execution_count": 14,
   "metadata": {},
   "outputs": [],
   "source": [
    "radon=pd.read_csv('DATA/radon.csv')"
   ]
  },
  {
   "cell_type": "markdown",
   "metadata": {},
   "source": [
    "## Data Munging\n",
    "\n",
    "We've seen that there is a row of data that's missing a value for the `hhincome` variable.  Let's kick that observation to the curb, and work with the rest of the data.\n",
    "\n",
    "The following stmt selects all rows that aren't missing a value for `hhincome`, gets columns `lcanmort` through `hhincome`, and drops columns `radon`. "
   ]
  },
  {
   "cell_type": "code",
   "execution_count": 15,
   "metadata": {},
   "outputs": [
    {
     "data": {
      "text/plain": [
       "(2880, 7)"
      ]
     },
     "execution_count": 15,
     "metadata": {},
     "output_type": "execute_result"
    },
    {
     "data": {
      "text/plain": [
       "Index(['lcanmort', 'lnradon', 'obesity', 'over65', 'cursmoke', 'evrsmoke',\n",
       "       'hhincome'],\n",
       "      dtype='object')"
      ]
     },
     "execution_count": 15,
     "metadata": {},
     "output_type": "execute_result"
    }
   ],
   "source": [
    "radon2=radon.loc[radon.hhincome.notnull(),'lcanmort':'hhincome'] \\\n",
    "        .drop('radon',axis=1)\n",
    "radon2.shape\n",
    "radon2.columns"
   ]
  },
  {
   "cell_type": "markdown",
   "metadata": {},
   "source": [
    "## 20 Fold CV\n",
    "\n",
    "Next will set up to do 20 fold cross-validation, pre-shuffling the data, and setting the random seed to a constant so that results can be replicated if need be."
   ]
  },
  {
   "cell_type": "code",
   "execution_count": 16,
   "metadata": {},
   "outputs": [],
   "source": [
    "kf=KFold(n_splits=20,random_state=99,shuffle=True)\n",
    "X=radon2.iloc[:,1:].to_numpy()\n",
    "y=radon2.loc[:,'lcanmort'].to_numpy()\n",
    "\n",
    "cvres=list()  # This will hold cv results\n",
    "\n",
    "regr=linear_model.LinearRegression() # define a reg model to use\n",
    "\n",
    "for traindx, testdx in kf.split(X):  # loop over folds\n",
    "    resDict={}                       # Dictionary to hold fold results\n",
    "    XTrain=X[traindx]                # Xtrain\n",
    "    yTrain=y[traindx]\n",
    "    XTest=X[testdx]\n",
    "    yTest=y[testdx]\n",
    "    regModel=regr.fit(XTrain,yTrain)\n",
    "    trainPred=regModel.predict(XTrain)\n",
    "    trainR2=r2_score(yTrain,trainPred)\n",
    "    trainMSE=mean_squared_error(yTrain,trainPred)\n",
    "    testPred=regModel.predict(XTest)\n",
    "    testR2=r2_score(yTest,testPred)\n",
    "    testMSE=mean_squared_error(yTest,testPred)\n",
    "    resDict.update({'trainR2':trainR2,\n",
    "                    'testR2':testR2,\n",
    "                    'trainMSE':trainMSE,\n",
    "                    'testMSE':testMSE})\n",
    "    cvres.append(resDict)\n",
    "    "
   ]
  },
  {
   "cell_type": "code",
   "execution_count": 17,
   "metadata": {},
   "outputs": [],
   "source": [
    "# Rearranging cols to make train vs test comparisons easier\n",
    "\n",
    "cvresDF=pd.DataFrame(cvres)[['trainMSE','testMSE','trainR2','testR2']]"
   ]
  },
  {
   "cell_type": "markdown",
   "metadata": {},
   "source": [
    "## Inspecting Results\n",
    "\n",
    "Let's summarize results."
   ]
  },
  {
   "cell_type": "code",
   "execution_count": 18,
   "metadata": {},
   "outputs": [
    {
     "data": {
      "text/html": [
       "<div>\n",
       "<style scoped>\n",
       "    .dataframe tbody tr th:only-of-type {\n",
       "        vertical-align: middle;\n",
       "    }\n",
       "\n",
       "    .dataframe tbody tr th {\n",
       "        vertical-align: top;\n",
       "    }\n",
       "\n",
       "    .dataframe thead th {\n",
       "        text-align: right;\n",
       "    }\n",
       "</style>\n",
       "<table border=\"1\" class=\"dataframe\">\n",
       "  <thead>\n",
       "    <tr style=\"text-align: right;\">\n",
       "      <th></th>\n",
       "      <th>trainMSE</th>\n",
       "      <th>testMSE</th>\n",
       "      <th>trainR2</th>\n",
       "      <th>testR2</th>\n",
       "    </tr>\n",
       "  </thead>\n",
       "  <tbody>\n",
       "    <tr>\n",
       "      <th>count</th>\n",
       "      <td>20.000000</td>\n",
       "      <td>20.000000</td>\n",
       "      <td>20.000000</td>\n",
       "      <td>20.000000</td>\n",
       "    </tr>\n",
       "    <tr>\n",
       "      <th>mean</th>\n",
       "      <td>166.338463</td>\n",
       "      <td>167.178183</td>\n",
       "      <td>0.465881</td>\n",
       "      <td>0.458306</td>\n",
       "    </tr>\n",
       "    <tr>\n",
       "      <th>std</th>\n",
       "      <td>1.504895</td>\n",
       "      <td>28.563857</td>\n",
       "      <td>0.003490</td>\n",
       "      <td>0.063702</td>\n",
       "    </tr>\n",
       "    <tr>\n",
       "      <th>min</th>\n",
       "      <td>162.079522</td>\n",
       "      <td>126.813798</td>\n",
       "      <td>0.459364</td>\n",
       "      <td>0.333667</td>\n",
       "    </tr>\n",
       "    <tr>\n",
       "      <th>25%</th>\n",
       "      <td>165.744857</td>\n",
       "      <td>149.900947</td>\n",
       "      <td>0.464056</td>\n",
       "      <td>0.430661</td>\n",
       "    </tr>\n",
       "    <tr>\n",
       "      <th>50%</th>\n",
       "      <td>166.595322</td>\n",
       "      <td>162.365318</td>\n",
       "      <td>0.465750</td>\n",
       "      <td>0.465242</td>\n",
       "    </tr>\n",
       "    <tr>\n",
       "      <th>75%</th>\n",
       "      <td>167.248859</td>\n",
       "      <td>178.546491</td>\n",
       "      <td>0.467429</td>\n",
       "      <td>0.495068</td>\n",
       "    </tr>\n",
       "    <tr>\n",
       "      <th>max</th>\n",
       "      <td>168.463209</td>\n",
       "      <td>247.957006</td>\n",
       "      <td>0.472399</td>\n",
       "      <td>0.577696</td>\n",
       "    </tr>\n",
       "  </tbody>\n",
       "</table>\n",
       "</div>"
      ],
      "text/plain": [
       "         trainMSE     testMSE    trainR2     testR2\n",
       "count   20.000000   20.000000  20.000000  20.000000\n",
       "mean   166.338463  167.178183   0.465881   0.458306\n",
       "std      1.504895   28.563857   0.003490   0.063702\n",
       "min    162.079522  126.813798   0.459364   0.333667\n",
       "25%    165.744857  149.900947   0.464056   0.430661\n",
       "50%    166.595322  162.365318   0.465750   0.465242\n",
       "75%    167.248859  178.546491   0.467429   0.495068\n",
       "max    168.463209  247.957006   0.472399   0.577696"
      ]
     },
     "execution_count": 18,
     "metadata": {},
     "output_type": "execute_result"
    }
   ],
   "source": [
    "cvresDF.describe()"
   ]
  },
  {
   "cell_type": "markdown",
   "metadata": {},
   "source": [
    "Compare train and test metrics directly by looking at the differences betwen the within fold metrics."
   ]
  },
  {
   "cell_type": "code",
   "execution_count": 19,
   "metadata": {},
   "outputs": [],
   "source": [
    "cvresDF['TestTrainMSEDiff']=cvresDF.testMSE-cvresDF.trainMSE  # This is test-train\n",
    "cvresDF['TrainTestR2Diff']=cvresDF.trainR2-cvresDF.testR2     # This is train-test"
   ]
  },
  {
   "cell_type": "code",
   "execution_count": 20,
   "metadata": {},
   "outputs": [
    {
     "data": {
      "text/html": [
       "<div>\n",
       "<style scoped>\n",
       "    .dataframe tbody tr th:only-of-type {\n",
       "        vertical-align: middle;\n",
       "    }\n",
       "\n",
       "    .dataframe tbody tr th {\n",
       "        vertical-align: top;\n",
       "    }\n",
       "\n",
       "    .dataframe thead th {\n",
       "        text-align: right;\n",
       "    }\n",
       "</style>\n",
       "<table border=\"1\" class=\"dataframe\">\n",
       "  <thead>\n",
       "    <tr style=\"text-align: right;\">\n",
       "      <th></th>\n",
       "      <th>TestTrainMSEDiff</th>\n",
       "      <th>TrainTestR2Diff</th>\n",
       "    </tr>\n",
       "  </thead>\n",
       "  <tbody>\n",
       "    <tr>\n",
       "      <th>count</th>\n",
       "      <td>20.000000</td>\n",
       "      <td>20.000000</td>\n",
       "    </tr>\n",
       "    <tr>\n",
       "      <th>mean</th>\n",
       "      <td>0.839720</td>\n",
       "      <td>0.007575</td>\n",
       "    </tr>\n",
       "    <tr>\n",
       "      <th>std</th>\n",
       "      <td>30.068707</td>\n",
       "      <td>0.067153</td>\n",
       "    </tr>\n",
       "    <tr>\n",
       "      <th>min</th>\n",
       "      <td>-41.649411</td>\n",
       "      <td>-0.118332</td>\n",
       "    </tr>\n",
       "    <tr>\n",
       "      <th>25%</th>\n",
       "      <td>-17.347912</td>\n",
       "      <td>-0.031012</td>\n",
       "    </tr>\n",
       "    <tr>\n",
       "      <th>50%</th>\n",
       "      <td>-4.230004</td>\n",
       "      <td>0.000309</td>\n",
       "    </tr>\n",
       "    <tr>\n",
       "      <th>75%</th>\n",
       "      <td>12.801634</td>\n",
       "      <td>0.036768</td>\n",
       "    </tr>\n",
       "    <tr>\n",
       "      <th>max</th>\n",
       "      <td>85.877483</td>\n",
       "      <td>0.137989</td>\n",
       "    </tr>\n",
       "  </tbody>\n",
       "</table>\n",
       "</div>"
      ],
      "text/plain": [
       "       TestTrainMSEDiff  TrainTestR2Diff\n",
       "count         20.000000        20.000000\n",
       "mean           0.839720         0.007575\n",
       "std           30.068707         0.067153\n",
       "min          -41.649411        -0.118332\n",
       "25%          -17.347912        -0.031012\n",
       "50%           -4.230004         0.000309\n",
       "75%           12.801634         0.036768\n",
       "max           85.877483         0.137989"
      ]
     },
     "execution_count": 20,
     "metadata": {},
     "output_type": "execute_result"
    }
   ],
   "source": [
    "cvresDF[['TestTrainMSEDiff','TrainTestR2Diff']].describe()"
   ]
  },
  {
   "cell_type": "markdown",
   "metadata": {},
   "source": [
    "# UDU:  Repeat the K Fold Procedure, Above, Using the pt Sat Data"
   ]
  }
 ],
 "metadata": {
  "hide_input": false,
  "kernelspec": {
   "display_name": "Python 3",
   "language": "python",
   "name": "python3"
  },
  "language_info": {
   "codemirror_mode": {
    "name": "ipython",
    "version": 3
   },
   "file_extension": ".py",
   "mimetype": "text/x-python",
   "name": "python",
   "nbconvert_exporter": "python",
   "pygments_lexer": "ipython3",
   "version": "3.6.8"
  },
  "latex_envs": {
   "LaTeX_envs_menu_present": true,
   "autoclose": false,
   "autocomplete": true,
   "bibliofile": "biblio.bib",
   "cite_by": "apalike",
   "current_citInitial": 1,
   "eqLabelWithNumbers": true,
   "eqNumInitial": 1,
   "hotkeys": {
    "equation": "Ctrl-E",
    "itemize": "Ctrl-I"
   },
   "labels_anchors": false,
   "latex_user_defs": false,
   "report_style_numbering": false,
   "user_envs_cfg": false
  },
  "toc": {
   "base_numbering": 1,
   "nav_menu": {},
   "number_sections": false,
   "sideBar": true,
   "skip_h1_title": false,
   "title_cell": "Table of Contents",
   "title_sidebar": "Contents",
   "toc_cell": false,
   "toc_position": {
    "height": "calc(100% - 180px)",
    "left": "10px",
    "top": "150px",
    "width": "290px"
   },
   "toc_section_display": true,
   "toc_window_display": false
  }
 },
 "nbformat": 4,
 "nbformat_minor": 2
}
