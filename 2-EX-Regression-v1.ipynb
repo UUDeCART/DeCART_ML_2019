{
 "cells": [
  {
   "cell_type": "markdown",
   "metadata": {},
   "source": [
    "Creative Commons CC BY 4.0 Lynd Bacon & Associates, Ltd.  Not warranted to be suitable for any particular purpose. (You're on your own!)"
   ]
  },
  {
   "cell_type": "code",
   "execution_count": 1,
   "metadata": {},
   "outputs": [],
   "source": [
    "from IPython.core.interactiveshell import InteractiveShell\n",
    "InteractiveShell.ast_node_interactivity = \"all\"\n",
    "\n",
    "import numpy as np\n",
    "import pandas as pd\n",
    "import seaborn as sns\n",
    "%matplotlib inline\n",
    "import matplotlib.pyplot as plt "
   ]
  },
  {
   "cell_type": "markdown",
   "metadata": {},
   "source": [
    "## Basic Linear Regression for ML"
   ]
  },
  {
   "cell_type": "markdown",
   "metadata": {},
   "source": [
    "The wildly popular, basic model for a single observation i:  \n",
    "\n",
    "\\begin{align*}\n",
    "\\large\n",
    "y_i = X_{i}{\\rm B}+\\epsilon_i\n",
    "\\end{align*}\n",
    "\n",
    "Where $X_i$  is (possibly) a vector of predictor variable values, ${rm B}$ is a vector of estimated coefficients, and $\\epsilon_i$ is an error term, $y_i - \\hat{y_i}$. \n",
    "\n",
    "In statistical applications, it's not uncommon to state this model like:\n",
    "\n",
    "\\begin{align*}\n",
    "\\large\n",
    "y_i \\sim N(X_{i}{\\rm B},\\sigma_{\\epsilon}^2)\n",
    "\\end{align*}\n",
    "\n",
    "where some model assumptions are evident.\n"
   ]
  },
  {
   "cell_type": "markdown",
   "metadata": {},
   "source": [
    "## The Purpose of Estimation Is the Key Difference\n",
    "\n",
    "Linear regression is typically used in statistical contexts for _explanation_, _hypothesis testing_, and/or _causal inference_.  In these contexts, you might say that the $\\epsilon_i$'s are used for _inference_. Model assumptions, like the homogeneity of error variances assumption, are critical to making valid conclusions.\n",
    "\n",
    "Linear regression is used for _predicting_ in a ML application.  The general goal is to make the $\\epsilon_I$'s as small as possible.  A frequently accompanying objective is that they aren't a lot bigger when the estimated, or _trained_, regression model is applied to predict $y_i$'s in new data obtained from the same population of observations."
   ]
  },
  {
   "cell_type": "markdown",
   "metadata": {},
   "source": [
    "## Linear Regression for Prediction\n",
    "\n",
    "Let's use the inpatient satisfaction data again.  Input the data from the csv file into a numpy array. Assuming that the file `DECART-patSat.csv` is in the pwd (\"present working directory\"):"
   ]
  },
  {
   "cell_type": "code",
   "execution_count": 2,
   "metadata": {},
   "outputs": [],
   "source": [
    "# ptNumA has a header record with var names for the cols\n",
    "ptNumA=np.genfromtxt('DATA/ML/DECART-patSat.csv', delimiter=\",\",skip_header=1)"
   ]
  },
  {
   "cell_type": "markdown",
   "metadata": {},
   "source": [
    "`ptNumA` is a [numpy](https://www.numpy.org/) array, with rows and columns:"
   ]
  },
  {
   "cell_type": "code",
   "execution_count": 3,
   "metadata": {},
   "outputs": [
    {
     "data": {
      "text/plain": [
       "numpy.ndarray"
      ]
     },
     "execution_count": 3,
     "metadata": {},
     "output_type": "execute_result"
    },
    {
     "data": {
      "text/plain": [
       "(1811, 11)"
      ]
     },
     "execution_count": 3,
     "metadata": {},
     "output_type": "execute_result"
    }
   ],
   "source": [
    "type(ptNumA)\n",
    "ptNumA.shape"
   ]
  },
  {
   "cell_type": "markdown",
   "metadata": {},
   "source": [
    "Here's a look at the first five rows of the data in `ptNumA`:"
   ]
  },
  {
   "cell_type": "code",
   "execution_count": 4,
   "metadata": {},
   "outputs": [
    {
     "data": {
      "text/plain": [
       "array([[ 0.,  2.,  8.,  8.,  2.,  2.,  2.,  6.,  8.,  6.,  0.],\n",
       "       [ 1.,  7.,  8.,  8.,  7.,  6.,  8.,  9.,  8., 10.,  2.],\n",
       "       [ 2.,  5.,  3.,  3.,  3.,  5.,  4.,  4.,  7.,  7.,  0.],\n",
       "       [ 3.,  8.,  7.,  6.,  8.,  8.,  8.,  8.,  8.,  8.,  1.],\n",
       "       [ 4.,  2.,  1.,  1.,  1.,  1., 10.,  2., 10.,  8.,  0.]])"
      ]
     },
     "execution_count": 4,
     "metadata": {},
     "output_type": "execute_result"
    }
   ],
   "source": [
    "ptNumA[:5,:]"
   ]
  },
  {
   "cell_type": "markdown",
   "metadata": {},
   "source": [
    "That first column is the variable `caseID`, an unique but arbitrary record identifier. (No HIPAA, no HIPAA!)  \n",
    "\n",
    "Let's remove it to avoid confusing it later with response data:"
   ]
  },
  {
   "cell_type": "code",
   "execution_count": 5,
   "metadata": {},
   "outputs": [
    {
     "data": {
      "text/plain": [
       "(1811, 10)"
      ]
     },
     "execution_count": 5,
     "metadata": {},
     "output_type": "execute_result"
    },
    {
     "data": {
      "text/plain": [
       "1.0"
      ]
     },
     "execution_count": 5,
     "metadata": {},
     "output_type": "execute_result"
    }
   ],
   "source": [
    "ptNumA2=ptNumA[:,1:]\n",
    "ptNumA2.shape\n",
    "ptNumA2[:,1].min()"
   ]
  },
  {
   "cell_type": "markdown",
   "metadata": {},
   "source": [
    "We need to get some methods to do a regression.  We'll use some methods from [scikit-learn](https://scikit-learn.org/stable/), arguably the most popular Python package for ML."
   ]
  },
  {
   "cell_type": "code",
   "execution_count": 6,
   "metadata": {},
   "outputs": [],
   "source": [
    "from sklearn import linear_model  # OLS \n",
    "from sklearn.metrics import mean_squared_error, r2_score # Basic metrics"
   ]
  },
  {
   "cell_type": "markdown",
   "metadata": {},
   "source": [
    "We'll \"train\" a model using _ordinary_least_squares_ using scikit-learn's [Linear Regression function](https://scikit-learn.org/stable/modules/generated/sklearn.linear_model.LinearRegression.html#sklearn.linear_model.LinearRegression).  Note that the input parameters are _positional_: the first is the predictor,or \"X\", variables.  The second is \"y\".  Note the defaults, e.g. intercept, not \"normalized.\"  The `n_jobs` parameter allows using multiple processors."
   ]
  },
  {
   "cell_type": "code",
   "execution_count": 7,
   "metadata": {},
   "outputs": [
    {
     "data": {
      "text/plain": [
       "LinearRegression(copy_X=True, fit_intercept=True, n_jobs=None, normalize=False)"
      ]
     },
     "execution_count": 7,
     "metadata": {},
     "output_type": "execute_result"
    }
   ],
   "source": [
    "regr=linear_model.LinearRegression()  #creates an instance of the fcn\n",
    "regr.fit(ptNumA2[:,2:],ptNumA2[:,1])"
   ]
  },
  {
   "cell_type": "markdown",
   "metadata": {},
   "source": [
    "Let's get some basic fit measures. These are select from [scikit-learn metrics](https://scikit-learn.org/stable/modules/classes.html#module-sklearn.metrics):"
   ]
  },
  {
   "cell_type": "code",
   "execution_count": 9,
   "metadata": {},
   "outputs": [],
   "source": [
    "regrPredY=regr.predict(ptNumA2[:,2:])  # values of y predicted by model\n",
    "MSE=mean_squared_error(ptNumA2[:,1],regrPredY)  # calculated MSE\n",
    "R2=r2_score(ptNumA2[:,1],regrPredY)  # coef of determination"
   ]
  },
  {
   "cell_type": "code",
   "execution_count": 10,
   "metadata": {},
   "outputs": [
    {
     "name": "stdout",
     "output_type": "stream",
     "text": [
      "MSE: 2.29\n",
      "R2: 0.67\n"
     ]
    }
   ],
   "source": [
    "print('MSE: %4.2f' % MSE)\n",
    "print('R2: %3.2f' % R2)"
   ]
  },
  {
   "cell_type": "markdown",
   "metadata": {},
   "source": [
    "A quick look at a scatterplot:"
   ]
  },
  {
   "cell_type": "code",
   "execution_count": 11,
   "metadata": {},
   "outputs": [
    {
     "data": {
      "text/plain": [
       "<matplotlib.collections.PathCollection at 0x7f9b8442a4a8>"
      ]
     },
     "execution_count": 11,
     "metadata": {},
     "output_type": "execute_result"
    },
    {
     "data": {
      "image/png": "[encoded data removed]",
      "text/plain": [
       "<Figure size 432x288 with 1 Axes>"
      ]
     },
     "metadata": {
      "needs_background": "light"
     },
     "output_type": "display_data"
    }
   ],
   "source": [
    "plt.scatter(ptNumA2[:,1],regrPredY,color='black',alpha=.1)"
   ]
  },
  {
   "cell_type": "markdown",
   "metadata": {},
   "source": [
    "Meh.  Could be a little better by adding a regression line?  We need to get intercept and slope estimates:"
   ]
  },
  {
   "cell_type": "code",
   "execution_count": 12,
   "metadata": {},
   "outputs": [],
   "source": [
    "# This gets slope and intercept estimates:\n",
    "\n",
    "slp, inter = np.polyfit(ptNumA2[:,1],regrPredY,deg=1)"
   ]
  },
  {
   "cell_type": "code",
   "execution_count": 13,
   "metadata": {},
   "outputs": [
    {
     "data": {
      "image/png": "[encoded data removed]",
      "text/plain": [
       "<Figure size 432x288 with 1 Axes>"
      ]
     },
     "metadata": {
      "needs_background": "light"
     },
     "output_type": "display_data"
    }
   ],
   "source": [
    "linf=lambda x: slp*x+inter # line generating function\n",
    "\n",
    "x=np.array([1,10])  # Two points determine a line?\n",
    "\n",
    "plt.scatter(ptNumA2[:,1],regrPredY,color='grey',alpha=.3);\n",
    "plt.plot(x,linf(x),c=\"red\");  # note the linf fcn for y, here.\n",
    "\n",
    "plt.xlabel('Pt Satisfaction Rating',fontsize=14);\n",
    "plt.ylabel('Predicted Pt Satisfaction Rating',fontsize=14);\n"
   ]
  },
  {
   "cell_type": "markdown",
   "metadata": {},
   "source": [
    "## Another UD4U: Lung CA Rate Regression using the radon Data\n",
    "\n",
    "Try doing the above using the data in `radon.csv`.  Regress `lcanmort` on:\n",
    "\n",
    "* `lnradon`\n",
    "* `obesity`\n",
    "* `over65`\n",
    "* `evrsmoke`\n",
    "* `hhincome`\n",
    "\n",
    "\"Train\" your regression model, and get MSE and R<sup>2</sup> estimates for it.\n"
   ]
  }
 ],
 "metadata": {
  "hide_input": false,
  "kernelspec": {
   "display_name": "Python 3",
   "language": "python",
   "name": "python3"
  },
  "language_info": {
   "codemirror_mode": {
    "name": "ipython",
    "version": 3
   },
   "file_extension": ".py",
   "mimetype": "text/x-python",
   "name": "python",
   "nbconvert_exporter": "python",
   "pygments_lexer": "ipython3",
   "version": "3.6.8"
  },
  "latex_envs": {
   "LaTeX_envs_menu_present": true,
   "autoclose": false,
   "autocomplete": true,
   "bibliofile": "biblio.bib",
   "cite_by": "apalike",
   "current_citInitial": 1,
   "eqLabelWithNumbers": true,
   "eqNumInitial": 1,
   "hotkeys": {
    "equation": "Ctrl-E",
    "itemize": "Ctrl-I"
   },
   "labels_anchors": false,
   "latex_user_defs": false,
   "report_style_numbering": false,
   "user_envs_cfg": false
  },
  "toc": {
   "base_numbering": 1,
   "nav_menu": {},
   "number_sections": true,
   "sideBar": true,
   "skip_h1_title": false,
   "title_cell": "Table of Contents",
   "title_sidebar": "Contents",
   "toc_cell": false,
   "toc_position": {},
   "toc_section_display": true,
   "toc_window_display": false
  }
 },
 "nbformat": 4,
 "nbformat_minor": 2
}
