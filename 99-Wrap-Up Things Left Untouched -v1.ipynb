{
 "cells": [
  {
   "cell_type": "markdown",
   "metadata": {
    "slideshow": {
     "slide_type": "skip"
    }
   },
   "source": [
    "Creative Commons CC BY 4.0 Lynd Bacon & Associates, Ltd. Not warranted to be suitable for any particular purpose. (You're on your own!)"
   ]
  },
  {
   "cell_type": "markdown",
   "metadata": {
    "slideshow": {
     "slide_type": "slide"
    }
   },
   "source": [
    "# Wrap Up"
   ]
  },
  {
   "cell_type": "markdown",
   "metadata": {
    "slideshow": {
     "slide_type": "slide"
    }
   },
   "source": [
    "# Things We Didn't Actually Put Hands On\n",
    "\n",
    "* Ensemble clustering.\n",
    "* Parameter or weight uncertainty.\n",
    "* Specialized NN's:\n",
    "    * RNN's.\n",
    "        * LSTM networks.\n",
    "    * CNN's applied to 1D or 3D data.\n",
    "    * Autoencoders.\n",
    "    * GANs.\n",
    "* Reinforcement learning"
   ]
  },
  {
   "cell_type": "markdown",
   "metadata": {
    "slideshow": {
     "slide_type": "slide"
    }
   },
   "source": [
    "# Reinforcement Learning\n",
    "\n",
    "* Software \"agent\" learns a \"policy\" to maximize rewards and minimize costs based on making observations in an environment\n",
    "    * The environment can be virtual or real\n",
    "    * Policy adjusted based on feedback from the environment\n",
    "    * Rewards are discounted to reflect relative value of payoffs going into the future\n",
    "* Applications in game-playing, robotics\n",
    "* \n",
    "\n",
    "* [Sutton & Barto Text, 2nd Ed.](https://mitpress.ublish.com/book/reinforcement-learning-an-introduction-2)\n",
    "* [Sutton & Barto 2nd Ed. pdf Online](http://incompleteideas.net/book/RLbook2018trimmed.pdf)."
   ]
  },
  {
   "cell_type": "markdown",
   "metadata": {
    "slideshow": {
     "slide_type": "slide"
    }
   },
   "source": [
    "# Autoencoders\n",
    "\n",
    "* A neural network unsupervised learning method.\n",
    "* Encodes outputs using inputs.\n",
    "* Output are often of much lower dimensionality than inputs, hence used for data reduction.\n",
    "* Constructed using encoding and decoding layers.\n",
    "* Training attempts to accomplish learning to reconstruct outputs with little information loss when compared to inputs.\n"
   ]
  },
  {
   "cell_type": "markdown",
   "metadata": {
    "slideshow": {
     "slide_type": "slide"
    }
   },
   "source": [
    "# Generative Adversarial Netorks: GANs\n",
    "\n",
    "* Train two networks that compete.\n",
    "* One, the \"discriminator\", tries to learn a classification problem.\n",
    "* The _generator_, or \"adversary,\" learns to create \"fake\" examples that fool the discrimator.\n",
    "* The discriminator and the generator are trained in sequence, discriminator first.\n",
    "* Training is complete when the discriminator no longer can tell the difference between actual and fake examples."
   ]
  },
  {
   "cell_type": "markdown",
   "metadata": {
    "slideshow": {
     "slide_type": "slide"
    }
   },
   "source": [
    "# AutoML\n",
    "\n",
    "\"Automatic Machine Learning\"\n",
    "\n",
    "* Basic idea is to make ML more accessible by using ML to automate the ML process\n",
    "* A early example application is _TPOT_: \"Tree-Based Pipeline Optimization\" \n",
    "\n",
    "See:\n",
    "\n",
    "[Penn AI](http://automl.info/pennai/)  \n",
    "[ML Freiburg](https://www.automl.org/)"
   ]
  }
 ],
 "metadata": {
  "celltoolbar": "Slideshow",
  "hide_input": false,
  "kernelspec": {
   "display_name": "Python 3",
   "language": "python",
   "name": "python3"
  },
  "language_info": {
   "codemirror_mode": {
    "name": "ipython",
    "version": 3
   },
   "file_extension": ".py",
   "mimetype": "text/x-python",
   "name": "python",
   "nbconvert_exporter": "python",
   "pygments_lexer": "ipython3",
   "version": "3.6.8"
  },
  "latex_envs": {
   "LaTeX_envs_menu_present": true,
   "autoclose": false,
   "autocomplete": true,
   "bibliofile": "biblio.bib",
   "cite_by": "apalike",
   "current_citInitial": 1,
   "eqLabelWithNumbers": true,
   "eqNumInitial": 1,
   "hotkeys": {
    "equation": "Ctrl-E",
    "itemize": "Ctrl-I"
   },
   "labels_anchors": false,
   "latex_user_defs": false,
   "report_style_numbering": false,
   "user_envs_cfg": false
  },
  "toc": {
   "base_numbering": 1,
   "nav_menu": {},
   "number_sections": false,
   "sideBar": false,
   "skip_h1_title": false,
   "title_cell": "Table of Contents",
   "title_sidebar": "Contents",
   "toc_cell": false,
   "toc_position": {
    "height": "calc(100% - 180px)",
    "left": "10px",
    "top": "150px",
    "width": "288px"
   },
   "toc_section_display": false,
   "toc_window_display": true
  },
  "varInspector": {
   "cols": {
    "lenName": 16,
    "lenType": 16,
    "lenVar": 40
   },
   "kernels_config": {
    "python": {
     "delete_cmd_postfix": "",
     "delete_cmd_prefix": "del ",
     "library": "var_list.py",
     "varRefreshCmd": "print(var_dic_list())"
    },
    "r": {
     "delete_cmd_postfix": ") ",
     "delete_cmd_prefix": "rm(",
     "library": "var_list.r",
     "varRefreshCmd": "cat(var_dic_list()) "
    }
   },
   "types_to_exclude": [
    "module",
    "function",
    "builtin_function_or_method",
    "instance",
    "_Feature"
   ],
   "window_display": false
  }
 },
 "nbformat": 4,
 "nbformat_minor": 2
}
