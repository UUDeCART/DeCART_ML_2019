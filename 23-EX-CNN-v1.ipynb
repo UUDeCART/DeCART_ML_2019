{
 "cells": [
  {
   "cell_type": "markdown",
   "metadata": {},
   "source": [
    "Creative Commons CC BY 4.0 Lynd Bacon & Associates, Ltd. Not warranted to be suitable for any particular purpose. (You're on your own!)"
   ]
  },
  {
   "cell_type": "markdown",
   "metadata": {},
   "source": [
    "# Image Classification with a CNN\n",
    "\n",
    "In the following we're going to train CNN's to predict digit images using the famous [MNIST dataset](https://en.wikipedia.org/wiki/MNIST_database).  This [Wikipedia Page](https://en.wikipedia.org/wiki/MNIST_database) includes results from applying different kinds of ML algorithms to this problem. For more information, see [Yann LeCun's MNIST](http://yann.lecun.com/exdb/mnist/index.html) web page."
   ]
  },
  {
   "cell_type": "markdown",
   "metadata": {},
   "source": [
    "# Packages"
   ]
  },
  {
   "cell_type": "code",
   "execution_count": 38,
   "metadata": {},
   "outputs": [],
   "source": [
    "from IPython.core.interactiveshell import InteractiveShell\n",
    "InteractiveShell.ast_node_interactivity = \"all\"\n",
    "from IPython.display import display, Markdown\n",
    "import numpy as np\n",
    "import pandas as pd\n",
    "import os\n",
    "\n",
    "import matplotlib.pyplot as plt\n",
    "import scikitplot as skplt\n",
    "from sklearn import linear_model\n",
    "from sklearn.model_selection import KFold, StratifiedShuffleSplit\n",
    "from sklearn.model_selection import cross_val_predict, train_test_split\n",
    "from sklearn.model_selection import GridSearchCV\n",
    "from sklearn import preprocessing\n",
    "from sklearn.metrics import accuracy_score, confusion_matrix, roc_auc_score\n",
    "from sklearn.metrics import roc_curve, precision_score, recall_score\n",
    "from sklearn.metrics import classification_report\n",
    "import tensorflow as tf\n",
    "from tensorflow import keras\n",
    "from tensorflow.keras.datasets import mnist\n",
    "%matplotlib inline\n"
   ]
  },
  {
   "cell_type": "markdown",
   "metadata": {},
   "source": [
    "# Getting and Munging the Data\n",
    "\n",
    "The data are already divided into train and test splits. 60,000 training, 10,000 test."
   ]
  },
  {
   "cell_type": "code",
   "execution_count": 8,
   "metadata": {},
   "outputs": [],
   "source": [
    "(X_train, y_train),(X_test, y_test) = mnist.load_data()"
   ]
  },
  {
   "cell_type": "code",
   "execution_count": 9,
   "metadata": {
    "collapsed": true
   },
   "outputs": [
    {
     "data": {
      "text/plain": [
       "(60000, 28, 28)"
      ]
     },
     "execution_count": 9,
     "metadata": {},
     "output_type": "execute_result"
    },
    {
     "data": {
      "text/plain": [
       "(60000,)"
      ]
     },
     "execution_count": 9,
     "metadata": {},
     "output_type": "execute_result"
    },
    {
     "data": {
      "text/plain": [
       "(10000, 28, 28)"
      ]
     },
     "execution_count": 9,
     "metadata": {},
     "output_type": "execute_result"
    },
    {
     "data": {
      "text/plain": [
       "(10000,)"
      ]
     },
     "execution_count": 9,
     "metadata": {},
     "output_type": "execute_result"
    }
   ],
   "source": [
    "X_train.shape\n",
    "y_train.shape\n",
    "X_test.shape\n",
    "y_test.shape"
   ]
  },
  {
   "cell_type": "markdown",
   "metadata": {},
   "source": [
    "Each X record is a 28 X 28 array. The elements are grayscale values ranging from 0 to 255.\n",
    "\n",
    "In order speed training, we're going to use just one 10<sup>th</sup> of the data.\n",
    "\n",
    "It's common practice to rescale the pixel values.  Here we'll rescale them to be in the range from 0 to 1."
   ]
  },
  {
   "cell_type": "code",
   "execution_count": 10,
   "metadata": {},
   "outputs": [],
   "source": [
    "X_train10=X_train[:6001,:]/255\n",
    "y_train10=y_train[:6001]\n",
    "X_test10=X_test[:6001,:]/255\n",
    "y_test10=y_test[:6001]"
   ]
  },
  {
   "cell_type": "markdown",
   "metadata": {},
   "source": [
    "## What Do the Pixel Data \"Look\" like?\n",
    "\n",
    "Here's the 101<sup>th</sup> digit image in the training data, and the corresponding label:"
   ]
  },
  {
   "cell_type": "code",
   "execution_count": 88,
   "metadata": {
    "collapsed": true
   },
   "outputs": [
    {
     "data": {
      "image/png": "[encoded data removed]",
      "text/plain": [
       "<Figure size 432x288 with 1 Axes>"
      ]
     },
     "metadata": {
      "needs_background": "light"
     },
     "output_type": "display_data"
    }
   ],
   "source": [
    "oneOone_image=X_train10[100].reshape(28,28)\n",
    "plt.imshow(oneOone_image,cmap=\"binary\")\n",
    "plt.axis('off')\n",
    "plt.show();"
   ]
  },
  {
   "cell_type": "code",
   "execution_count": 89,
   "metadata": {},
   "outputs": [
    {
     "name": "stdout",
     "output_type": "stream",
     "text": [
      "The corresponding label is  5\n"
     ]
    }
   ],
   "source": [
    "print(\"The corresponding label is \",y_train10[100])"
   ]
  },
  {
   "cell_type": "code",
   "execution_count": 90,
   "metadata": {},
   "outputs": [],
   "source": [
    "np.random.seed(99)"
   ]
  },
  {
   "cell_type": "markdown",
   "metadata": {},
   "source": [
    "# Fully Connected NN Classifier"
   ]
  },
  {
   "cell_type": "code",
   "execution_count": 3,
   "metadata": {},
   "outputs": [],
   "source": [
    "keras.backend.clear_session()  # this resets\n",
    "mod1=keras.models.Sequential([\n",
    "    keras.layers.Flatten(input_shape=(28,28)),\n",
    "    keras.layers.Dense(200,activation='relu'),\n",
    "    keras.layers.Dense(100,activation='relu'),\n",
    "    keras.layers.Dense(10,activation='softmax')\n",
    "    ])"
   ]
  },
  {
   "cell_type": "markdown",
   "metadata": {},
   "source": [
    "## Model Summary \n",
    "\n",
    "Note the number of parameters."
   ]
  },
  {
   "cell_type": "code",
   "execution_count": 4,
   "metadata": {
    "collapsed": true
   },
   "outputs": [
    {
     "name": "stdout",
     "output_type": "stream",
     "text": [
      "_________________________________________________________________\n",
      "Layer (type)                 Output Shape              Param #   \n",
      "=================================================================\n",
      "flatten (Flatten)            (None, 784)               0         \n",
      "_________________________________________________________________\n",
      "dense (Dense)                (None, 200)               157000    \n",
      "_________________________________________________________________\n",
      "dense_1 (Dense)              (None, 100)               20100     \n",
      "_________________________________________________________________\n",
      "dense_2 (Dense)              (None, 10)                1010      \n",
      "=================================================================\n",
      "Total params: 178,110\n",
      "Trainable params: 178,110\n",
      "Non-trainable params: 0\n",
      "_________________________________________________________________\n"
     ]
    }
   ],
   "source": [
    "mod1.summary()"
   ]
  },
  {
   "cell_type": "markdown",
   "metadata": {},
   "source": [
    "## Initial Weights for a Layer\n",
    "\n",
    "For example, for the 3<sup>rd</sup> layer.  The first array is the connection weights, and the second are for the biases."
   ]
  },
  {
   "cell_type": "code",
   "execution_count": 5,
   "metadata": {
    "collapsed": true
   },
   "outputs": [
    {
     "data": {
      "text/plain": [
       "[array([[ 0.00147645,  0.14065756,  0.07329823, ..., -0.03142992,\n",
       "         -0.02209172,  0.03629407],\n",
       "        [ 0.06085843,  0.02788216,  0.10406539, ..., -0.12599929,\n",
       "          0.09513302, -0.13601147],\n",
       "        [-0.06026858,  0.0214259 , -0.08136399, ...,  0.09297666,\n",
       "          0.03103964,  0.00906086],\n",
       "        ...,\n",
       "        [-0.11357392, -0.06161104,  0.03145878, ..., -0.13660033,\n",
       "         -0.08003778, -0.0528652 ],\n",
       "        [-0.0884479 ,  0.06783147, -0.0064802 , ...,  0.11409123,\n",
       "          0.13330792,  0.00723165],\n",
       "        [-0.08422725, -0.06671219, -0.11176863, ..., -0.08725052,\n",
       "          0.05387481, -0.13847952]], dtype=float32),\n",
       " array([0., 0., 0., 0., 0., 0., 0., 0., 0., 0., 0., 0., 0., 0., 0., 0., 0.,\n",
       "        0., 0., 0., 0., 0., 0., 0., 0., 0., 0., 0., 0., 0., 0., 0., 0., 0.,\n",
       "        0., 0., 0., 0., 0., 0., 0., 0., 0., 0., 0., 0., 0., 0., 0., 0., 0.,\n",
       "        0., 0., 0., 0., 0., 0., 0., 0., 0., 0., 0., 0., 0., 0., 0., 0., 0.,\n",
       "        0., 0., 0., 0., 0., 0., 0., 0., 0., 0., 0., 0., 0., 0., 0., 0., 0.,\n",
       "        0., 0., 0., 0., 0., 0., 0., 0., 0., 0., 0., 0., 0., 0., 0.],\n",
       "       dtype=float32)]"
      ]
     },
     "execution_count": 5,
     "metadata": {},
     "output_type": "execute_result"
    }
   ],
   "source": [
    "mod1.layers[2].get_weights()"
   ]
  },
  {
   "cell_type": "markdown",
   "metadata": {},
   "source": [
    "## Compiling Network\n",
    "\n",
    "_Accuracy_, here, will be the classification accuracy.  \"sparse_categorical_crossentropy\" is used here because the target variable labels are single digits. \"categorical_crossentropy\" would be used instead if the labels were indicate by a 10 element 0/1 array, i.e. if they were \"one hot\" encoded."
   ]
  },
  {
   "cell_type": "code",
   "execution_count": 6,
   "metadata": {},
   "outputs": [],
   "source": [
    "mod1.compile(loss='sparse_categorical_crossentropy',\n",
    "            optimizer='sgd',\n",
    "            metrics=['accuracy'])"
   ]
  },
  {
   "cell_type": "markdown",
   "metadata": {},
   "source": [
    "## Training"
   ]
  },
  {
   "cell_type": "code",
   "execution_count": 11,
   "metadata": {},
   "outputs": [],
   "source": [
    "mod1Training=mod1.fit(X_train10, y_train10, epochs=50,\n",
    "                     validation_data=(X_test10,y_test10),\n",
    "                     verbose=0)\n"
   ]
  },
  {
   "cell_type": "code",
   "execution_count": 12,
   "metadata": {
    "collapsed": true
   },
   "outputs": [
    {
     "data": {
      "image/png": "[encoded data removed]",
      "text/plain": [
       "<Figure size 576x360 with 1 Axes>"
      ]
     },
     "metadata": {
      "needs_background": "light"
     },
     "output_type": "display_data"
    }
   ],
   "source": [
    "mod1historyDF=pd.DataFrame(mod1Training.history)\n",
    "mod1historyDF.plot(figsize=(8,5))\n",
    "plt.grid(True)\n",
    "plt.gca().set_ylim(0,1)\n",
    "plt.title(\"Training and Test Metrics by Epoch\")\n",
    "plt.xlabel('Epoch Number')\n",
    "plt.show();"
   ]
  },
  {
   "cell_type": "code",
   "execution_count": 13,
   "metadata": {},
   "outputs": [
    {
     "data": {
      "text/plain": [
       "val_loss    0.268667\n",
       "val_acc     0.922013\n",
       "loss        0.071022\n",
       "acc         0.985502\n",
       "Name: 47, dtype: float64"
      ]
     },
     "execution_count": 13,
     "metadata": {},
     "output_type": "execute_result"
    }
   ],
   "source": [
    "mod1historyDF.iloc[mod1historyDF.val_acc.idxmax(),:]"
   ]
  },
  {
   "cell_type": "markdown",
   "metadata": {},
   "source": [
    "Recall that the curves for training should be shifted to the left.  "
   ]
  },
  {
   "cell_type": "markdown",
   "metadata": {},
   "source": [
    "More epochs."
   ]
  },
  {
   "cell_type": "code",
   "execution_count": 14,
   "metadata": {},
   "outputs": [],
   "source": [
    "mod1Training2=mod1.fit(X_train10, y_train10, epochs=100,\n",
    "                       initial_epoch=51,\n",
    "                     validation_data=(X_test10,y_test10),\n",
    "                     verbose=0)\n"
   ]
  },
  {
   "cell_type": "code",
   "execution_count": 15,
   "metadata": {
    "collapsed": true
   },
   "outputs": [
    {
     "data": {
      "image/png": "[encoded data removed]",
      "text/plain": [
       "<Figure size 576x360 with 1 Axes>"
      ]
     },
     "metadata": {
      "needs_background": "light"
     },
     "output_type": "display_data"
    }
   ],
   "source": [
    "mod2historyDF=pd.DataFrame(mod1Training2.history)\n",
    "mod2historyDF.shape\n",
    "\n",
    "mod2historyDF.plot(figsize=(8,5))\n",
    "plt.grid(True)\n",
    "plt.gca().set_ylim(0,1)\n",
    "plt.title(\"Training and Test Metrics by Epoch\")\n",
    "plt.xlabel('Epoch Number')\n",
    "plt.show();"
   ]
  },
  {
   "cell_type": "markdown",
   "metadata": {},
   "source": [
    "## Network Evaluation and Predictions: Test Data"
   ]
  },
  {
   "cell_type": "code",
   "execution_count": 16,
   "metadata": {
    "collapsed": true
   },
   "outputs": [
    {
     "name": "stdout",
     "output_type": "stream",
     "text": [
      "Test data loss, accuracy:\n",
      "6001/6001 [==============================] - 0s 49us/step\n"
     ]
    },
    {
     "data": {
      "text/plain": [
       "[0.2669764315783034, 0.9255124146174319]"
      ]
     },
     "execution_count": 16,
     "metadata": {},
     "output_type": "execute_result"
    }
   ],
   "source": [
    "print(\"Test data loss, accuracy:\")\n",
    "mod1.evaluate(X_test10,y_test10)"
   ]
  },
  {
   "cell_type": "code",
   "execution_count": 17,
   "metadata": {
    "collapsed": true
   },
   "outputs": [
    {
     "data": {
      "text/plain": [
       "(6001,)"
      ]
     },
     "execution_count": 17,
     "metadata": {},
     "output_type": "execute_result"
    },
    {
     "data": {
      "text/plain": [
       "array([[557,   0,   1,   0,   0,   0,   6,   1,   2,   1],\n",
       "       [  0, 673,   4,   2,   0,   1,   4,   1,   1,   0],\n",
       "       [  4,   3, 575,  12,   5,   0,   6,  10,   7,   3],\n",
       "       [  4,   2,   8, 536,   0,  21,   2,  14,   6,   2],\n",
       "       [  1,   0,   1,   0, 566,   0,   6,   4,   3,  18],\n",
       "       [  8,   2,   0,  11,   4, 495,   9,   4,   9,   6],\n",
       "       [  6,   3,   7,   0,  11,   8, 520,   3,   4,   0],\n",
       "       [  0,   9,  19,   3,   6,   1,   0, 544,   1,  26],\n",
       "       [  5,   4,   3,  16,   9,   6,   4,   7, 523,  10],\n",
       "       [  3,   7,   1,   7,  22,   5,   1,   7,   4, 565]])"
      ]
     },
     "execution_count": 17,
     "metadata": {},
     "output_type": "execute_result"
    }
   ],
   "source": [
    "y_pred=mod1.predict_classes(X_test10)\n",
    "y_pred.shape\n",
    "confusion_matrix(y_test10,y_pred)"
   ]
  },
  {
   "cell_type": "markdown",
   "metadata": {},
   "source": [
    "See [scikit.metrics Classification Report](https://scikit-learn.org/stable/modules/generated/sklearn.metrics.classification_report.html) about the following."
   ]
  },
  {
   "cell_type": "code",
   "execution_count": 18,
   "metadata": {
    "collapsed": true
   },
   "outputs": [
    {
     "name": "stdout",
     "output_type": "stream",
     "text": [
      "              precision    recall  f1-score   support\n",
      "\n",
      "           0       0.95      0.98      0.96       568\n",
      "           1       0.96      0.98      0.97       686\n",
      "           2       0.93      0.92      0.92       625\n",
      "           3       0.91      0.90      0.91       595\n",
      "           4       0.91      0.94      0.93       599\n",
      "           5       0.92      0.90      0.91       548\n",
      "           6       0.93      0.93      0.93       562\n",
      "           7       0.91      0.89      0.90       609\n",
      "           8       0.93      0.89      0.91       587\n",
      "           9       0.90      0.91      0.90       622\n",
      "\n",
      "    accuracy                           0.93      6001\n",
      "   macro avg       0.93      0.92      0.92      6001\n",
      "weighted avg       0.93      0.93      0.93      6001\n",
      "\n"
     ]
    }
   ],
   "source": [
    "print(classification_report(y_test10,y_pred))"
   ]
  },
  {
   "cell_type": "markdown",
   "metadata": {},
   "source": [
    "# UDU: See If you can Improve the Accuracy of the NN, Above.\n",
    "\n",
    "Try different activation functions, increasing the number of neurons in the hidden layers. How about changing the learning rate, batch size, or other hyperparameters?"
   ]
  },
  {
   "cell_type": "markdown",
   "metadata": {},
   "source": [
    "# UDU: Summarize Performance using Data Not Yet Used\n",
    "\n",
    "So far we haven't yet  used all of the MNIST.  We only used the first 6,000 images. Use some of the remaining data to further assess the above model.  Use whichever version you think is the best."
   ]
  },
  {
   "cell_type": "markdown",
   "metadata": {},
   "source": [
    "# CNN\n",
    "\n",
    "We'll now train some CNNs to predict the digit labels using multiple convolution and pooling layers.\n",
    "\n",
    "Parameters to be set for a convulutional layer include:  \n",
    "*the number of kernels, or \"filters\"  \n",
    "* the kernel size  (the shape)  \n",
    "* stride size\n",
    "* \"padding\" type around the image edges  \n",
    "* the type of activation function \n"
   ]
  },
  {
   "cell_type": "markdown",
   "metadata": {},
   "source": [
    "## CNN1"
   ]
  },
  {
   "cell_type": "markdown",
   "metadata": {},
   "source": [
    "### Reshaping the X Data for A Convolution Layer\n",
    "\n",
    "The X data needs to four dimensions:\n",
    "\n",
    "* Number of samples.\n",
    "* Image height.\n",
    "* Image width.\n",
    "* Channels (1 for grayscale pixels, 3 for RGB color).\n",
    "\n",
    "Using keras, the _order_ of these dimensions depends on what the fit() function argument \"data_format\" is set to, \"channels_first\" or \"channels_last.\" Somewhere in your environment there may be a keras.json file that provides the default as a value of \"image_data_format.\""
   ]
  },
  {
   "cell_type": "code",
   "execution_count": 46,
   "metadata": {},
   "outputs": [],
   "source": [
    "X_train10r = X_train10.reshape(X_train10.shape[0], 28, 28, 1).astype('float32')\n",
    "X_test10r = X_test10.reshape(X_test10.shape[0], 28, 28, 1).astype('float32')"
   ]
  },
  {
   "cell_type": "markdown",
   "metadata": {},
   "source": [
    "### Layers:\n",
    "    \n",
    "* Conv - 32 filters that are 5 X 5, no strides, padding with zeros.\n",
    "* Pooling - splits each image dimension in two.\n",
    "* Flattening input; Dense layers expect 1D input\n",
    "* Fully connected \"Dense\" layer with 64 neurons\n",
    "* Softmax output layer "
   ]
  },
  {
   "cell_type": "code",
   "execution_count": 80,
   "metadata": {},
   "outputs": [],
   "source": [
    " # del cnn1"
   ]
  },
  {
   "cell_type": "code",
   "execution_count": 47,
   "metadata": {},
   "outputs": [],
   "source": [
    "keras.backend.clear_session()  # this resets\n",
    "cnn1=keras.models.Sequential([\n",
    "    keras.layers.Conv2D(32,(5,5),activation='relu',padding='same',\n",
    "                        input_shape=[28,28,1]),\n",
    "    keras.layers.MaxPooling2D(pool_size=(3, 3)),\n",
    "    keras.layers.Flatten(),\n",
    "    keras.layers.Dense(32,activation='relu'),\n",
    "    keras.layers.Dense(10,activation='softmax')\n",
    "])"
   ]
  },
  {
   "cell_type": "code",
   "execution_count": 48,
   "metadata": {
    "collapsed": true
   },
   "outputs": [
    {
     "name": "stdout",
     "output_type": "stream",
     "text": [
      "_________________________________________________________________\n",
      "Layer (type)                 Output Shape              Param #   \n",
      "=================================================================\n",
      "conv2d (Conv2D)              (None, 28, 28, 32)        832       \n",
      "_________________________________________________________________\n",
      "max_pooling2d (MaxPooling2D) (None, 9, 9, 32)          0         \n",
      "_________________________________________________________________\n",
      "flatten (Flatten)            (None, 2592)              0         \n",
      "_________________________________________________________________\n",
      "dense (Dense)                (None, 32)                82976     \n",
      "_________________________________________________________________\n",
      "dense_1 (Dense)              (None, 10)                330       \n",
      "=================================================================\n",
      "Total params: 84,138\n",
      "Trainable params: 84,138\n",
      "Non-trainable params: 0\n",
      "_________________________________________________________________\n"
     ]
    }
   ],
   "source": [
    "cnn1.summary()"
   ]
  },
  {
   "cell_type": "markdown",
   "metadata": {},
   "source": [
    "### Compile CNN1"
   ]
  },
  {
   "cell_type": "code",
   "execution_count": 49,
   "metadata": {},
   "outputs": [],
   "source": [
    "cnn1.compile(loss='sparse_categorical_crossentropy',\n",
    "            optimizer='sgd',\n",
    "            metrics=['accuracy'])"
   ]
  },
  {
   "cell_type": "markdown",
   "metadata": {},
   "source": [
    "### Train CNN1"
   ]
  },
  {
   "cell_type": "code",
   "execution_count": 50,
   "metadata": {},
   "outputs": [],
   "source": [
    "cnn1Training=cnn1.fit(X_train10r, y_train10, epochs=50,\n",
    "                     validation_data=(X_test10r,y_test10),\n",
    "                     verbose=0)\n"
   ]
  },
  {
   "cell_type": "markdown",
   "metadata": {},
   "source": [
    "### CNN1 Training History"
   ]
  },
  {
   "cell_type": "code",
   "execution_count": 24,
   "metadata": {
    "collapsed": true
   },
   "outputs": [
    {
     "data": {
      "image/png": "[encoded data removed]",
      "text/plain": [
       "<Figure size 576x360 with 1 Axes>"
      ]
     },
     "metadata": {
      "needs_background": "light"
     },
     "output_type": "display_data"
    }
   ],
   "source": [
    "cnn1historyDF=pd.DataFrame(cnn1Training.history)\n",
    "cnn1historyDF.plot(figsize=(8,5))\n",
    "plt.grid(True)\n",
    "plt.gca().set_ylim(0,1)\n",
    "plt.title(\"Training and Test Metrics by Epoch\")\n",
    "plt.xlabel('Epoch Number')\n",
    "plt.show();"
   ]
  },
  {
   "cell_type": "markdown",
   "metadata": {},
   "source": [
    "## CNN1 Evaluation"
   ]
  },
  {
   "cell_type": "code",
   "execution_count": 25,
   "metadata": {
    "collapsed": true
   },
   "outputs": [
    {
     "name": "stdout",
     "output_type": "stream",
     "text": [
      "Test data loss, accuracy:\n",
      "6001/6001 [==============================] - 0s 67us/step\n"
     ]
    },
    {
     "data": {
      "text/plain": [
       "[0.13913371925032889, 0.9560073321113148]"
      ]
     },
     "execution_count": 25,
     "metadata": {},
     "output_type": "execute_result"
    }
   ],
   "source": [
    "print(\"Test data loss, accuracy:\")\n",
    "cnn1.evaluate(X_test10r,y_test10)"
   ]
  },
  {
   "cell_type": "code",
   "execution_count": 26,
   "metadata": {},
   "outputs": [],
   "source": [
    "cnn1PredClass=cnn1.predict_classes(X_test10r)"
   ]
  },
  {
   "cell_type": "code",
   "execution_count": 27,
   "metadata": {
    "collapsed": true
   },
   "outputs": [
    {
     "data": {
      "text/plain": [
       "array([[560,   0,   2,   0,   0,   0,   5,   0,   1,   0],\n",
       "       [  0, 678,   3,   1,   0,   0,   3,   0,   1,   0],\n",
       "       [  4,   3, 599,   4,   2,   0,   2,   4,   5,   2],\n",
       "       [  1,   0,   8, 564,   0,  12,   0,   7,   1,   2],\n",
       "       [  1,   1,   1,   0, 581,   0,   6,   3,   1,   5],\n",
       "       [  4,   1,   1,   7,   1, 521,   3,   2,   5,   3],\n",
       "       [  6,   3,   2,   0,   5,   2, 540,   0,   3,   1],\n",
       "       [  0,   4,  14,   3,   4,   0,   0, 569,   2,  13],\n",
       "       [ 10,   4,   7,  12,   7,   0,   1,   5, 533,   8],\n",
       "       [  3,   7,   3,   1,  10,   1,   0,   5,   0, 592]])"
      ]
     },
     "execution_count": 27,
     "metadata": {},
     "output_type": "execute_result"
    }
   ],
   "source": [
    "confusion_matrix(y_test10,cnn1PredClass)"
   ]
  },
  {
   "cell_type": "code",
   "execution_count": 28,
   "metadata": {
    "collapsed": true
   },
   "outputs": [
    {
     "name": "stdout",
     "output_type": "stream",
     "text": [
      "              precision    recall  f1-score   support\n",
      "\n",
      "           0       0.95      0.99      0.97       568\n",
      "           1       0.97      0.99      0.98       686\n",
      "           2       0.94      0.96      0.95       625\n",
      "           3       0.95      0.95      0.95       595\n",
      "           4       0.95      0.97      0.96       599\n",
      "           5       0.97      0.95      0.96       548\n",
      "           6       0.96      0.96      0.96       562\n",
      "           7       0.96      0.93      0.95       609\n",
      "           8       0.97      0.91      0.94       587\n",
      "           9       0.95      0.95      0.95       622\n",
      "\n",
      "    accuracy                           0.96      6001\n",
      "   macro avg       0.96      0.96      0.96      6001\n",
      "weighted avg       0.96      0.96      0.96      6001\n",
      "\n"
     ]
    }
   ],
   "source": [
    "print(classification_report(y_test10,cnn1PredClass))"
   ]
  },
  {
   "cell_type": "markdown",
   "metadata": {},
   "source": [
    "# CNN2: A Deeper CNN\n",
    "\n",
    "Let's add some additional Conv and Pooling Layers, an additional fully connected layer, and some dropout:"
   ]
  },
  {
   "cell_type": "markdown",
   "metadata": {},
   "source": [
    "## CNN2 Network Specification"
   ]
  },
  {
   "cell_type": "code",
   "execution_count": 29,
   "metadata": {},
   "outputs": [],
   "source": [
    "keras.backend.clear_session()  # this resets\n",
    "cnn2=keras.models.Sequential([\n",
    "    keras.layers.Conv2D(32,(5,5),activation='relu',padding='same',\n",
    "                        input_shape=[28,28,1]),\n",
    "    keras.layers.MaxPooling2D(pool_size=(3, 3)),\n",
    "    keras.layers.Dropout(0.2),\n",
    "    keras.layers.Conv2D(64,(3,3),activation='relu',padding='same'),\n",
    "    keras.layers.MaxPool2D(pool_size=(3,3)),\n",
    "    keras.layers.Flatten(),\n",
    "    keras.layers.Dense(64,activation='relu'),\n",
    "    keras.layers.Dense(32,activation='relu'),\n",
    "    keras.layers.Dense(10,activation='softmax')\n",
    "])"
   ]
  },
  {
   "cell_type": "code",
   "execution_count": 30,
   "metadata": {
    "collapsed": true
   },
   "outputs": [
    {
     "name": "stdout",
     "output_type": "stream",
     "text": [
      "_________________________________________________________________\n",
      "Layer (type)                 Output Shape              Param #   \n",
      "=================================================================\n",
      "conv2d (Conv2D)              (None, 28, 28, 32)        832       \n",
      "_________________________________________________________________\n",
      "max_pooling2d (MaxPooling2D) (None, 9, 9, 32)          0         \n",
      "_________________________________________________________________\n",
      "dropout (Dropout)            (None, 9, 9, 32)          0         \n",
      "_________________________________________________________________\n",
      "conv2d_1 (Conv2D)            (None, 9, 9, 64)          18496     \n",
      "_________________________________________________________________\n",
      "max_pooling2d_1 (MaxPooling2 (None, 3, 3, 64)          0         \n",
      "_________________________________________________________________\n",
      "flatten (Flatten)            (None, 576)               0         \n",
      "_________________________________________________________________\n",
      "dense (Dense)                (None, 64)                36928     \n",
      "_________________________________________________________________\n",
      "dense_1 (Dense)              (None, 32)                2080      \n",
      "_________________________________________________________________\n",
      "dense_2 (Dense)              (None, 10)                330       \n",
      "=================================================================\n",
      "Total params: 58,666\n",
      "Trainable params: 58,666\n",
      "Non-trainable params: 0\n",
      "_________________________________________________________________\n"
     ]
    }
   ],
   "source": [
    "cnn2.summary()"
   ]
  },
  {
   "cell_type": "markdown",
   "metadata": {},
   "source": [
    "## Compiling CNN2"
   ]
  },
  {
   "cell_type": "code",
   "execution_count": 31,
   "metadata": {},
   "outputs": [],
   "source": [
    "cnn2.compile(loss='sparse_categorical_crossentropy',\n",
    "            optimizer='sgd',\n",
    "            metrics=['accuracy'])"
   ]
  },
  {
   "cell_type": "markdown",
   "metadata": {},
   "source": [
    "## Training CNN2"
   ]
  },
  {
   "cell_type": "code",
   "execution_count": 32,
   "metadata": {},
   "outputs": [],
   "source": [
    "cnn2Training=cnn2.fit(X_train10r, y_train10, epochs=50,\n",
    "                     validation_data=(X_test10r,y_test10),\n",
    "                     verbose=0)\n"
   ]
  },
  {
   "cell_type": "markdown",
   "metadata": {},
   "source": [
    "## CNN2 Training History"
   ]
  },
  {
   "cell_type": "code",
   "execution_count": 33,
   "metadata": {
    "collapsed": true
   },
   "outputs": [
    {
     "data": {
      "image/png": "[encoded data removed]",
      "text/plain": [
       "<Figure size 576x360 with 1 Axes>"
      ]
     },
     "metadata": {
      "needs_background": "light"
     },
     "output_type": "display_data"
    }
   ],
   "source": [
    "cnn2historyDF=pd.DataFrame(cnn2Training.history)\n",
    "cnn1historyDF.plot(figsize=(8,5))\n",
    "plt.grid(True)\n",
    "plt.gca().set_ylim(0,1)\n",
    "plt.title(\"Training and Test Metrics by Epoch\")\n",
    "plt.xlabel('Epoch Number')\n",
    "plt.show();"
   ]
  },
  {
   "cell_type": "markdown",
   "metadata": {},
   "source": [
    "## CNN2 Evaluation"
   ]
  },
  {
   "cell_type": "code",
   "execution_count": 34,
   "metadata": {},
   "outputs": [
    {
     "name": "stdout",
     "output_type": "stream",
     "text": [
      "Test data loss, accuracy:\n",
      "6001/6001 [==============================] - 0s 64us/step\n"
     ]
    },
    {
     "data": {
      "text/plain": [
       "[0.08388416444584156, 0.973004499250125]"
      ]
     },
     "execution_count": 34,
     "metadata": {},
     "output_type": "execute_result"
    }
   ],
   "source": [
    "print(\"Test data loss, accuracy:\")\n",
    "cnn2.evaluate(X_test10r,y_test10)"
   ]
  },
  {
   "cell_type": "code",
   "execution_count": 35,
   "metadata": {},
   "outputs": [],
   "source": [
    "cnn2PredClass=cnn2.predict_classes(X_test10r)"
   ]
  },
  {
   "cell_type": "code",
   "execution_count": 36,
   "metadata": {
    "collapsed": true
   },
   "outputs": [
    {
     "data": {
      "text/plain": [
       "array([[560,   0,   2,   0,   0,   0,   5,   0,   1,   0],\n",
       "       [  0, 678,   3,   1,   0,   0,   3,   0,   1,   0],\n",
       "       [  4,   3, 599,   4,   2,   0,   2,   4,   5,   2],\n",
       "       [  1,   0,   8, 564,   0,  12,   0,   7,   1,   2],\n",
       "       [  1,   1,   1,   0, 581,   0,   6,   3,   1,   5],\n",
       "       [  4,   1,   1,   7,   1, 521,   3,   2,   5,   3],\n",
       "       [  6,   3,   2,   0,   5,   2, 540,   0,   3,   1],\n",
       "       [  0,   4,  14,   3,   4,   0,   0, 569,   2,  13],\n",
       "       [ 10,   4,   7,  12,   7,   0,   1,   5, 533,   8],\n",
       "       [  3,   7,   3,   1,  10,   1,   0,   5,   0, 592]])"
      ]
     },
     "execution_count": 36,
     "metadata": {},
     "output_type": "execute_result"
    }
   ],
   "source": [
    "confusion_matrix(y_test10,cnn1PredClass)"
   ]
  },
  {
   "cell_type": "code",
   "execution_count": 37,
   "metadata": {
    "collapsed": true
   },
   "outputs": [
    {
     "name": "stdout",
     "output_type": "stream",
     "text": [
      "              precision    recall  f1-score   support\n",
      "\n",
      "           0       0.99      0.98      0.99       568\n",
      "           1       0.98      0.99      0.99       686\n",
      "           2       0.99      0.95      0.97       625\n",
      "           3       0.99      0.95      0.97       595\n",
      "           4       0.97      0.98      0.98       599\n",
      "           5       0.97      0.99      0.98       548\n",
      "           6       0.99      0.98      0.98       562\n",
      "           7       0.96      0.97      0.96       609\n",
      "           8       0.94      0.98      0.96       587\n",
      "           9       0.96      0.96      0.96       622\n",
      "\n",
      "    accuracy                           0.97      6001\n",
      "   macro avg       0.97      0.97      0.97      6001\n",
      "weighted avg       0.97      0.97      0.97      6001\n",
      "\n"
     ]
    }
   ],
   "source": [
    "print(classification_report(y_test10,cnn2PredClass))"
   ]
  },
  {
   "cell_type": "markdown",
   "metadata": {},
   "source": [
    "# Tensorboard Visualization\n",
    "\n",
    "Tensorboard is a utility that allows \"peaking into\" network training.  There are a couple of ways to use it, and one is from in Jupyter.  This works, sometimes.  Here's an example use set-up."
   ]
  },
  {
   "cell_type": "code",
   "execution_count": 39,
   "metadata": {},
   "outputs": [],
   "source": [
    "# set up a dir to write logs into.\n",
    "\n",
    "root_logdir=os.path.join(os.curdir,\"ts_logs\")\n",
    "\n",
    "# A function that will create a new log directory for a training run\n",
    "\n",
    "def create_log_dir():\n",
    "    import time\n",
    "    run_id = time.strftime(\"run_%Y_%m_%d-%H_%M_%S\")\n",
    "    return os.path.join(root_logdir,run_id)\n"
   ]
  },
  {
   "cell_type": "code",
   "execution_count": 40,
   "metadata": {
    "collapsed": true
   },
   "outputs": [
    {
     "data": {
      "text/plain": [
       "'./ts_logs/run_2019_07_25-14_39_16'"
      ]
     },
     "execution_count": 40,
     "metadata": {},
     "output_type": "execute_result"
    }
   ],
   "source": [
    "# test the fcn\n",
    "\n",
    "create_log_dir()"
   ]
  },
  {
   "cell_type": "code",
   "execution_count": null,
   "metadata": {},
   "outputs": [],
   "source": [
    "# Try a run "
   ]
  },
  {
   "cell_type": "code",
   "execution_count": 55,
   "metadata": {
    "collapsed": true
   },
   "outputs": [
    {
     "name": "stderr",
     "output_type": "stream",
     "text": [
      "Exception ignored in: <bound method BaseSession._Callable.__del__ of <tensorflow.python.client.session.BaseSession._Callable object at 0x7fe27b3eb6a0>>\n",
      "Traceback (most recent call last):\n",
      "  File \"/home/lynd/anaconda3/lib/python3.6/site-packages/tensorflow/python/client/session.py\", line 1455, in __del__\n",
      "    self._session._session, self._handle, status)\n",
      "  File \"/home/lynd/anaconda3/lib/python3.6/site-packages/tensorflow/python/framework/errors_impl.py\", line 528, in __exit__\n",
      "    c_api.TF_GetCode(self.status.status))\n",
      "tensorflow.python.framework.errors_impl.InvalidArgumentError: No such callable handle: 94146870231392\n"
     ]
    }
   ],
   "source": [
    "cnn1.reset_states() # initialize the cnn1 model\n",
    "tensorboard_cb=keras.callbacks.TensorBoard(create_log_dir)\n",
    "cnn1history=cnn1.fit(X_train10r, y_train10,epochs=50,\n",
    "                    validation_data=(X_test10r,y_test10),\n",
    "                     callbacks=[tensorboard_cb],\n",
    "                    verbose=0)"
   ]
  },
  {
   "cell_type": "code",
   "execution_count": 57,
   "metadata": {
    "collapsed": true
   },
   "outputs": [
    {
     "data": {
      "text/html": [
       "<div>\n",
       "<style scoped>\n",
       "    .dataframe tbody tr th:only-of-type {\n",
       "        vertical-align: middle;\n",
       "    }\n",
       "\n",
       "    .dataframe tbody tr th {\n",
       "        vertical-align: top;\n",
       "    }\n",
       "\n",
       "    .dataframe thead th {\n",
       "        text-align: right;\n",
       "    }\n",
       "</style>\n",
       "<table border=\"1\" class=\"dataframe\">\n",
       "  <thead>\n",
       "    <tr style=\"text-align: right;\">\n",
       "      <th></th>\n",
       "      <th>val_loss</th>\n",
       "      <th>val_acc</th>\n",
       "      <th>loss</th>\n",
       "      <th>acc</th>\n",
       "    </tr>\n",
       "  </thead>\n",
       "  <tbody>\n",
       "    <tr>\n",
       "      <th>count</th>\n",
       "      <td>50.000000</td>\n",
       "      <td>50.000000</td>\n",
       "      <td>50.000000</td>\n",
       "      <td>50.000000</td>\n",
       "    </tr>\n",
       "    <tr>\n",
       "      <th>mean</th>\n",
       "      <td>0.142784</td>\n",
       "      <td>0.957997</td>\n",
       "      <td>0.008783</td>\n",
       "      <td>0.999320</td>\n",
       "    </tr>\n",
       "    <tr>\n",
       "      <th>std</th>\n",
       "      <td>0.002413</td>\n",
       "      <td>0.000974</td>\n",
       "      <td>0.002456</td>\n",
       "      <td>0.000413</td>\n",
       "    </tr>\n",
       "    <tr>\n",
       "      <th>min</th>\n",
       "      <td>0.137981</td>\n",
       "      <td>0.955007</td>\n",
       "      <td>0.005348</td>\n",
       "      <td>0.998334</td>\n",
       "    </tr>\n",
       "    <tr>\n",
       "      <th>25%</th>\n",
       "      <td>0.140954</td>\n",
       "      <td>0.957507</td>\n",
       "      <td>0.006751</td>\n",
       "      <td>0.999167</td>\n",
       "    </tr>\n",
       "    <tr>\n",
       "      <th>50%</th>\n",
       "      <td>0.142629</td>\n",
       "      <td>0.958174</td>\n",
       "      <td>0.008264</td>\n",
       "      <td>0.999417</td>\n",
       "    </tr>\n",
       "    <tr>\n",
       "      <th>75%</th>\n",
       "      <td>0.145027</td>\n",
       "      <td>0.958632</td>\n",
       "      <td>0.010783</td>\n",
       "      <td>0.999667</td>\n",
       "    </tr>\n",
       "    <tr>\n",
       "      <th>max</th>\n",
       "      <td>0.147284</td>\n",
       "      <td>0.959673</td>\n",
       "      <td>0.013916</td>\n",
       "      <td>1.000000</td>\n",
       "    </tr>\n",
       "  </tbody>\n",
       "</table>\n",
       "</div>"
      ],
      "text/plain": [
       "        val_loss    val_acc       loss        acc\n",
       "count  50.000000  50.000000  50.000000  50.000000\n",
       "mean    0.142784   0.957997   0.008783   0.999320\n",
       "std     0.002413   0.000974   0.002456   0.000413\n",
       "min     0.137981   0.955007   0.005348   0.998334\n",
       "25%     0.140954   0.957507   0.006751   0.999167\n",
       "50%     0.142629   0.958174   0.008264   0.999417\n",
       "75%     0.145027   0.958632   0.010783   0.999667\n",
       "max     0.147284   0.959673   0.013916   1.000000"
      ]
     },
     "execution_count": 57,
     "metadata": {},
     "output_type": "execute_result"
    }
   ],
   "source": [
    "pd.DataFrame(cnn1history.history).describe()"
   ]
  },
  {
   "cell_type": "markdown",
   "metadata": {},
   "source": [
    "## Ways of Tensorboard\n",
    "\n",
    "Two ways to do it."
   ]
  },
  {
   "cell_type": "raw",
   "metadata": {},
   "source": [
    "# From a system command prompt, assuming that tensorboard is installed, and that the log dir is ts_logs:\n",
    "\n",
    "> tensorboard --logdir=./ts_logs --port=6006"
   ]
  },
  {
   "cell_type": "raw",
   "metadata": {},
   "source": [
    "# From inside a Jupyter Notebook:\n",
    "\n",
    "%load_ext tensorboard   #iPython \"magic\"\n",
    "%tensorboard --logdir=./ts_logs --port=6006"
   ]
  }
 ],
 "metadata": {
  "hide_input": false,
  "kernelspec": {
   "display_name": "Python 3",
   "language": "python",
   "name": "python3"
  },
  "language_info": {
   "codemirror_mode": {
    "name": "ipython",
    "version": 3
   },
   "file_extension": ".py",
   "mimetype": "text/x-python",
   "name": "python",
   "nbconvert_exporter": "python",
   "pygments_lexer": "ipython3",
   "version": "3.6.8"
  },
  "latex_envs": {
   "LaTeX_envs_menu_present": true,
   "autoclose": false,
   "autocomplete": true,
   "bibliofile": "biblio.bib",
   "cite_by": "apalike",
   "current_citInitial": 1,
   "eqLabelWithNumbers": true,
   "eqNumInitial": 1,
   "hotkeys": {
    "equation": "Ctrl-E",
    "itemize": "Ctrl-I"
   },
   "labels_anchors": false,
   "latex_user_defs": false,
   "report_style_numbering": false,
   "user_envs_cfg": false
  },
  "toc": {
   "base_numbering": 1,
   "nav_menu": {},
   "number_sections": false,
   "sideBar": true,
   "skip_h1_title": false,
   "title_cell": "Table of Contents",
   "title_sidebar": "Contents",
   "toc_cell": false,
   "toc_position": {
    "height": "calc(100% - 180px)",
    "left": "10px",
    "top": "150px",
    "width": "212px"
   },
   "toc_section_display": true,
   "toc_window_display": false
  }
 },
 "nbformat": 4,
 "nbformat_minor": 2
}
