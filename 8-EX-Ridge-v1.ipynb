{
 "cells": [
  {
   "cell_type": "markdown",
   "metadata": {},
   "source": [
    "Creative Commons CC BY 4.0 Lynd Bacon & Associates, Ltd. Not warranted to be suitable for any particular purpose. (You're on your own!)"
   ]
  },
  {
   "cell_type": "markdown",
   "metadata": {},
   "source": [
    "# Regression Regularization By \"Shrinkage\"\n",
    "\n",
    "The basic idea is that a model can be \"regularized\" by adding a _regularizer_ to the cost function, the function that an algorithm minimizes during learning.  (Goodfellow et al., 2016, p. 116).\n",
    "\n",
    "For example, a regression model of the sort we've trained on the patient satisfaction data and on the radon data might have a \"weight decay\" function added to the MSE to be minimized that can \"shrink\" coefficients to be learned towards zero. The shrinkage effect of such a regularizer is determined by one or more parameters specified a priori for training.  The result can be a decrease in variance. ([James et al., 2017](http://www-bcf.usc.edu/~gareth/ISL/), p. 214.) \n",
    "\n",
    "Frequently used regression algorithms that can apply this kind regularization method are:\n",
    "\n",
    "* Ridge regression\n",
    "* Lasso\n",
    "* elasticNet\n",
    "\n",
    "We'll experiment with Ridge regression in the following using the radon data, and observe the effect of adjusting the regularization parameter, referred to here as _alpha_.  We'll do a _grid search_ to find a \"good\" value of _alpha_.  In a subsequent notebook, we'll consider the Lasso and elasticNet, we'll do an analogous search, and will do some rescaling of the data.\n",
    "\n",
    "Ridge uses _L2_ regularization.  This essentially consists of adding penalty to the cost (or loss) function to be minimized that's a constant (alpha, here) times the L2 (\"Euclidean\") norm of the weights (regression coefficients) being learned. A _norm_ is the length of a vector.    In the case of Ridge regression, the L2 norm is the sum of the squared weights.\n",
    "\n",
    "The effect of using L2 regularization is to shrink model weights towards zero.  The amount of shrinkage that occurs depends on the value of `alpha`.  The larger the `alpha`, the greater the shrinkage."
   ]
  },
  {
   "cell_type": "code",
   "execution_count": 1,
   "metadata": {},
   "outputs": [],
   "source": [
    "from IPython.core.interactiveshell import InteractiveShell\n",
    "InteractiveShell.ast_node_interactivity = \"all\"\n",
    "\n",
    "import numpy as np\n",
    "import pandas as pd\n",
    "import seaborn as sns\n",
    "%matplotlib inline\n",
    "import matplotlib.pyplot as plt\n",
    "\n",
    "from sklearn import linear_model  \n",
    "from sklearn.metrics import mean_squared_error, r2_score # Basic metrics\n",
    "from sklearn.model_selection import GridSearchCV, train_test_split"
   ]
  },
  {
   "cell_type": "markdown",
   "metadata": {},
   "source": [
    "# Getting Some Radon \n",
    "\n",
    "This is pretty much the same as done previously."
   ]
  },
  {
   "cell_type": "code",
   "execution_count": 2,
   "metadata": {},
   "outputs": [
    {
     "data": {
      "text/plain": [
       "Index(['fips', 'state', 'county', 'lcanmort', 'radon', 'lnradon', 'obesity',\n",
       "       'over65', 'cursmoke', 'evrsmoke', 'hhincome'],\n",
       "      dtype='object')"
      ]
     },
     "execution_count": 2,
     "metadata": {},
     "output_type": "execute_result"
    }
   ],
   "source": [
    "# input data, examine col names\n",
    "\n",
    "radon=pd.read_csv('DATA/ML/radon.csv')\n",
    "radon.columns"
   ]
  },
  {
   "cell_type": "code",
   "execution_count": 3,
   "metadata": {},
   "outputs": [
    {
     "data": {
      "text/plain": [
       "Index(['lcanmort', 'lnradon', 'obesity', 'over65', 'cursmoke', 'evrsmoke',\n",
       "       'hhincome'],\n",
       "      dtype='object')"
      ]
     },
     "execution_count": 3,
     "metadata": {},
     "output_type": "execute_result"
    }
   ],
   "source": [
    "# select cols to be used\n",
    "\n",
    "radon2=radon[['lcanmort', 'lnradon', 'obesity',\n",
    "       'over65', 'cursmoke', 'evrsmoke', 'hhincome']]\n",
    "radon2.columns"
   ]
  },
  {
   "cell_type": "code",
   "execution_count": 16,
   "metadata": {},
   "outputs": [
    {
     "data": {
      "text/plain": [
       "Index(['lcanmort', 'lnradon', 'obesity', 'over65', 'cursmoke', 'evrsmoke',\n",
       "       'hhincome'],\n",
       "      dtype='object')"
      ]
     },
     "execution_count": 16,
     "metadata": {},
     "output_type": "execute_result"
    }
   ],
   "source": [
    "#  Get rid of that row with missing hhincome\n",
    "\n",
    "radon3=radon2[radon2.hhincome.notnull()]\n",
    "radon3.columns"
   ]
  },
  {
   "cell_type": "code",
   "execution_count": 17,
   "metadata": {},
   "outputs": [
    {
     "data": {
      "text/plain": [
       "(2880,)"
      ]
     },
     "execution_count": 17,
     "metadata": {},
     "output_type": "execute_result"
    },
    {
     "data": {
      "text/plain": [
       "(2880, 6)"
      ]
     },
     "execution_count": 17,
     "metadata": {},
     "output_type": "execute_result"
    }
   ],
   "source": [
    "# create numpy arrays for lcanmort and for the predictors\n",
    "# check to see if resulting shapes are correct\n",
    "\n",
    "y=radon3.lcanmort.to_numpy()\n",
    "X=radon3.iloc[:,1:].to_numpy()\n",
    "y.shape\n",
    "X.shape"
   ]
  },
  {
   "cell_type": "markdown",
   "metadata": {},
   "source": [
    "# Ridge Regression\n",
    "\n",
    "We'll use the `scikit-learn` method [linear.model.Ridge](https://scikit-learn.org/stable/modules/generated/sklearn.linear_model.Ridge.html).  \n",
    "\n",
    "The parameter that regularizes this algorithm is `alpha`.  In principle it can be in the range $\\big [ 0, \\infty \\big )$.  Zero results in no regularization, and larger values of `alpha` produce larger amounts of regularization.  Note that the scikit-learn documentation advises that if no regularization is to be used, it's better to use another algorithm, something that does plain vanilla linear regression, for example.  Note that if alpha were to be $\\lt$ 0, training would result in _larger_ weights, if it worked at all.\n",
    "\n",
    "For any particular application, the problem is to pick a \"good\" value of `alpha`, a value that will result in pretty good generalization.  We can search for an `alpha` value that works well enough by doing what's called a _grid search_.  We'll use 10 fold CV.  Here we go."
   ]
  },
  {
   "cell_type": "markdown",
   "metadata": {},
   "source": [
    "First, let's split X and y into training and test subsets:"
   ]
  },
  {
   "cell_type": "code",
   "execution_count": 18,
   "metadata": {},
   "outputs": [
    {
     "data": {
      "text/plain": [
       "(2160, 6)"
      ]
     },
     "execution_count": 18,
     "metadata": {},
     "output_type": "execute_result"
    },
    {
     "data": {
      "text/plain": [
       "(720, 6)"
      ]
     },
     "execution_count": 18,
     "metadata": {},
     "output_type": "execute_result"
    },
    {
     "data": {
      "text/plain": [
       "(2160,)"
      ]
     },
     "execution_count": 18,
     "metadata": {},
     "output_type": "execute_result"
    },
    {
     "data": {
      "text/plain": [
       "(720, 6)"
      ]
     },
     "execution_count": 18,
     "metadata": {},
     "output_type": "execute_result"
    }
   ],
   "source": [
    "X_train, X_test, y_train, y_test = train_test_split(X, y, random_state=99)\n",
    "X_train.shape\n",
    "X_test.shape\n",
    "y_train.shape\n",
    "X_test.shape"
   ]
  },
  {
   "cell_type": "markdown",
   "metadata": {},
   "source": [
    "## Grid Search for \"Best\" Ridge Regularization Parameter Value"
   ]
  },
  {
   "cell_type": "markdown",
   "metadata": {},
   "source": [
    "The accuracy measures returned from Ridge will be $R^2$ estimates by default.\n",
    "\n",
    "Here we're using scikit-learn's [GridSearchCV](https://scikit-learn.org/stable/modules/generated/sklearn.model_selection.GridSearchCV.html) method."
   ]
  },
  {
   "cell_type": "code",
   "execution_count": 22,
   "metadata": {
    "collapsed": true
   },
   "outputs": [
    {
     "data": {
      "text/plain": [
       "GridSearchCV(cv=10, error_score='raise-deprecating',\n",
       "             estimator=Ridge(alpha=1.0, copy_X=True, fit_intercept=True,\n",
       "                             max_iter=None, normalize=False, random_state=None,\n",
       "                             solver='auto', tol=0.001),\n",
       "             iid='warn', n_jobs=None,\n",
       "             param_grid={'alpha': [0.001, 0.01, 0.1, 1, 10, 100, 1000]},\n",
       "             pre_dispatch='2*n_jobs', refit=True, return_train_score=False,\n",
       "             scoring=None, verbose=0)"
      ]
     },
     "execution_count": 22,
     "metadata": {},
     "output_type": "execute_result"
    },
    {
     "name": "stdout",
     "output_type": "stream",
     "text": [
      "Best cross-validation accuracy: 0.46\n",
      "Best parameters:  {'alpha': 10}\n",
      "Test set accuracy: 0.48\n"
     ]
    }
   ],
   "source": [
    "ridgeReg=linear_model.Ridge()  # ridge model instance\n",
    "alpha_grid={'alpha': [0.001, 0.01, 0.1, 1, 10, 100,1000]}\n",
    "grid = GridSearchCV(ridgeReg, param_grid=alpha_grid, cv=10, refit=True)\n",
    "grid.fit(X_train, y_train)\n",
    "print(\"Best cross-validation accuracy: {:.2f}\".format(grid.best_score_))\n",
    "print(\"Best parameters: \", grid.best_params_)\n",
    "print(\"Test set accuracy: {:.2f}\".format(grid.score(X_test, y_test)))"
   ]
  },
  {
   "cell_type": "markdown",
   "metadata": {},
   "source": [
    "## What Happened?\n",
    "\n",
    "The results indicate that `alpha` = 10 is the \"best\" value for `alpha` amongst the seven different values tried, where \"best\" is defined by the value of R<sup>2</sup> when the test data are predicted.\n",
    "\n",
    "Let's take a look at the results for each value of `alpha`.  In ascending order of `alpha` values:"
   ]
  },
  {
   "cell_type": "code",
   "execution_count": 24,
   "metadata": {
    "collapsed": true
   },
   "outputs": [
    {
     "data": {
      "text/html": [
       "<div>\n",
       "<style scoped>\n",
       "    .dataframe tbody tr th:only-of-type {\n",
       "        vertical-align: middle;\n",
       "    }\n",
       "\n",
       "    .dataframe tbody tr th {\n",
       "        vertical-align: top;\n",
       "    }\n",
       "\n",
       "    .dataframe thead th {\n",
       "        text-align: right;\n",
       "    }\n",
       "</style>\n",
       "<table border=\"1\" class=\"dataframe\">\n",
       "  <thead>\n",
       "    <tr style=\"text-align: right;\">\n",
       "      <th></th>\n",
       "      <th>param_alpha</th>\n",
       "      <th>mean_test_score</th>\n",
       "    </tr>\n",
       "  </thead>\n",
       "  <tbody>\n",
       "    <tr>\n",
       "      <th>0</th>\n",
       "      <td>0.001</td>\n",
       "      <td>0.455810</td>\n",
       "    </tr>\n",
       "    <tr>\n",
       "      <th>1</th>\n",
       "      <td>0.01</td>\n",
       "      <td>0.455810</td>\n",
       "    </tr>\n",
       "    <tr>\n",
       "      <th>2</th>\n",
       "      <td>0.1</td>\n",
       "      <td>0.455810</td>\n",
       "    </tr>\n",
       "    <tr>\n",
       "      <th>3</th>\n",
       "      <td>1</td>\n",
       "      <td>0.455811</td>\n",
       "    </tr>\n",
       "    <tr>\n",
       "      <th>4</th>\n",
       "      <td>10</td>\n",
       "      <td>0.455813</td>\n",
       "    </tr>\n",
       "    <tr>\n",
       "      <th>5</th>\n",
       "      <td>100</td>\n",
       "      <td>0.455552</td>\n",
       "    </tr>\n",
       "    <tr>\n",
       "      <th>6</th>\n",
       "      <td>1000</td>\n",
       "      <td>0.442341</td>\n",
       "    </tr>\n",
       "  </tbody>\n",
       "</table>\n",
       "</div>"
      ],
      "text/plain": [
       "  param_alpha  mean_test_score\n",
       "0       0.001         0.455810\n",
       "1        0.01         0.455810\n",
       "2         0.1         0.455810\n",
       "3           1         0.455811\n",
       "4          10         0.455813\n",
       "5         100         0.455552\n",
       "6        1000         0.442341"
      ]
     },
     "execution_count": 24,
     "metadata": {},
     "output_type": "execute_result"
    }
   ],
   "source": [
    "pd.DataFrame(grid.cv_results_)[['param_alpha','mean_test_score']]. \\\n",
    "    sort_values(by='param_alpha')"
   ]
  },
  {
   "cell_type": "markdown",
   "metadata": {},
   "source": [
    "You can see that as `alpha` increased, the mean \"test score\" ($R^2$), increased until `alpha` = 10, and then it decreased.  As `alpha` increased, variance decreased.  But bias increased due to the model being less and less able to follow variations in `lcanmort`. "
   ]
  },
  {
   "cell_type": "markdown",
   "metadata": {},
   "source": [
    "We can get predictions of `lcanmort` using the best `alpha` value found:"
   ]
  },
  {
   "cell_type": "code",
   "execution_count": 25,
   "metadata": {},
   "outputs": [
    {
     "name": "stdout",
     "output_type": "stream",
     "text": [
      "training Data MSE: 165.81\n",
      "test Data MSE: 168.43\n"
     ]
    }
   ],
   "source": [
    "predLcaTrain=grid.predict(X_train)\n",
    "trainMSE=mean_squared_error(predLcaTrain,y_train)\n",
    "predLcaTest=grid.predict(X_test)\n",
    "testMSE=mean_squared_error(predLcaTest,y_test)\n",
    "print(\"training Data MSE: {:.2f}\".format(trainMSE) )\n",
    "print(\"test Data MSE: {:.2f}\".format(testMSE))"
   ]
  },
  {
   "cell_type": "markdown",
   "metadata": {},
   "source": [
    "## Plotting Predicted Values Obtained using \"Best\" Ridge Parameter"
   ]
  },
  {
   "cell_type": "code",
   "execution_count": 15,
   "metadata": {},
   "outputs": [
    {
     "data": {
      "image/png": "[encoded data removed]",
      "text/plain": [
       "<Figure size 576x576 with 1 Axes>"
      ]
     },
     "metadata": {
      "needs_background": "light"
     },
     "output_type": "display_data"
    }
   ],
   "source": [
    "plt.figure(figsize=(8,8))\n",
    "ax = sns.scatterplot(x=y_test, y=predLcaTest)\n",
    "plt.title('predicted vs actual ln lung CA rate, test data')\n",
    "plt.xlabel('actual ln lung CA rate')\n",
    "plt.ylabel('predicted lung CA rate');"
   ]
  },
  {
   "cell_type": "markdown",
   "metadata": {},
   "source": [
    "## Last But Not Least,...\n",
    "\n",
    "There are other ways to do Ridge with CV while trying different values of `alpha`.  One of them is [RidgeCV](scikit-learn.org/stable/modules/generated/sklearn.linear_model.RidgeCV.html#sklearn.linear_model.RidgeCV)."
   ]
  },
  {
   "cell_type": "markdown",
   "metadata": {},
   "source": [
    "# UDU :  Do the Above Using the Patient Satisfaction Data"
   ]
  }
 ],
 "metadata": {
  "hide_input": false,
  "kernelspec": {
   "display_name": "Python 3",
   "language": "python",
   "name": "python3"
  },
  "language_info": {
   "codemirror_mode": {
    "name": "ipython",
    "version": 3
   },
   "file_extension": ".py",
   "mimetype": "text/x-python",
   "name": "python",
   "nbconvert_exporter": "python",
   "pygments_lexer": "ipython3",
   "version": "3.6.8"
  },
  "latex_envs": {
   "LaTeX_envs_menu_present": true,
   "autoclose": false,
   "autocomplete": true,
   "bibliofile": "biblio.bib",
   "cite_by": "apalike",
   "current_citInitial": 1,
   "eqLabelWithNumbers": true,
   "eqNumInitial": 1,
   "hotkeys": {
    "equation": "Ctrl-E",
    "itemize": "Ctrl-I"
   },
   "labels_anchors": false,
   "latex_user_defs": false,
   "report_style_numbering": false,
   "user_envs_cfg": false
  },
  "toc": {
   "base_numbering": 1,
   "nav_menu": {},
   "number_sections": false,
   "sideBar": false,
   "skip_h1_title": false,
   "title_cell": "Table of Contents",
   "title_sidebar": "Contents",
   "toc_cell": false,
   "toc_position": {
    "height": "calc(100% - 180px)",
    "left": "10px",
    "top": "150px",
    "width": "236px"
   },
   "toc_section_display": true,
   "toc_window_display": false
  }
 },
 "nbformat": 4,
 "nbformat_minor": 2
}
