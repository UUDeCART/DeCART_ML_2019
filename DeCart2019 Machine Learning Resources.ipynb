{
 "cells": [
  {
   "cell_type": "markdown",
   "metadata": {},
   "source": [
    "## DeCART 2019 Machine Learning for HealthCare: Resources"
   ]
  },
  {
   "cell_type": "markdown",
   "metadata": {},
   "source": [
    "### General Textbooks\n",
    "\n",
    "Goodfellow, I, Bengio, Y. & Courville, A. __Deep Learning__. Cambridge MA: MIT Press, 2016 [ISBN-978-0262035613]\n",
    "\n",
    "Russell, S. & Norvig, P. __Artificial Intelligence:  A Modern Approach__. 3rd Ed. Pearson Education India, 2015 (paperback, 8th impression)[ISBN-978-9332543515]\n",
    "\n"
   ]
  },
  {
   "cell_type": "markdown",
   "metadata": {},
   "source": [
    "### Python-Specific Books\n",
    "\n",
    "Géron, A. 2017. Hands-On Machine Learning with Scikit-Learn & TensorFlow: Concepts, Tools, and Techniques to Build Intelligent Systems. Sebastopol, Calif.: O'Reilly. [ISBN-978-1491962299] Source code available at https://github.com/ageron/handson-ml \n",
    "\n",
    "Müller, A. C. and Guido, S. 2017. Introduction to Machine Lea\n",
    "rning with Python: A Guide for Data Scientists. Sebastopol, Calif.: O’Reilly. [ISBN-978-1449369415] Code examples at https://github.com/amueller/introduction_to_ml_with_python "
   ]
  },
  {
   "cell_type": "markdown",
   "metadata": {},
   "source": [
    "### An R Book That's Worth Having Around\n",
    "\n",
    "James, Garth, Witten, Daniel,Hastie, Trevor, and Tibshirani, Robert. 2017. An Introduction to Statistical Learning: with Applications in R. Available online as a pdf file at: http://www-bcf.usc.edu/~gareth/ISL/ "
   ]
  },
  {
   "cell_type": "markdown",
   "metadata": {},
   "source": [
    "\n",
    "\n",
    "### Various blog posts, articles, web sites\n",
    "\n",
    "Netflix Tech Blog [Jupyter Notebook Use 2018](https://medium.com/netflix-techblog/notebook-innovation-591ee3221233)"
   ]
  }
 ],
 "metadata": {
  "hide_input": false,
  "kernelspec": {
   "display_name": "Python 3",
   "language": "python",
   "name": "python3"
  },
  "language_info": {
   "codemirror_mode": {
    "name": "ipython",
    "version": 3
   },
   "file_extension": ".py",
   "mimetype": "text/x-python",
   "name": "python",
   "nbconvert_exporter": "python",
   "pygments_lexer": "ipython3",
   "version": "3.6.8"
  },
  "latex_envs": {
   "LaTeX_envs_menu_present": true,
   "autoclose": false,
   "autocomplete": true,
   "bibliofile": "biblio.bib",
   "cite_by": "apalike",
   "current_citInitial": 1,
   "eqLabelWithNumbers": true,
   "eqNumInitial": 1,
   "hotkeys": {
    "equation": "Ctrl-E",
    "itemize": "Ctrl-I"
   },
   "labels_anchors": false,
   "latex_user_defs": false,
   "report_style_numbering": false,
   "user_envs_cfg": false
  }
 },
 "nbformat": 4,
 "nbformat_minor": 2
}
