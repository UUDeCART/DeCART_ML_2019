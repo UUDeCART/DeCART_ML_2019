{
 "cells": [
  {
   "cell_type": "markdown",
   "metadata": {
    "slideshow": {
     "slide_type": "skip"
    }
   },
   "source": [
    "Creative Commons CC BY 4.0 Lynd Bacon & Associates, Ltd.  Not warranted to be suitable for any particular purpose. (You're on your own!)"
   ]
  },
  {
   "cell_type": "markdown",
   "metadata": {
    "slideshow": {
     "slide_type": "slide"
    }
   },
   "source": [
    "<center><h1> Machine Learning for Healthcare : Day 1 Intro</h1></center>"
   ]
  },
  {
   "cell_type": "markdown",
   "metadata": {
    "slideshow": {
     "slide_type": "slide"
    }
   },
   "source": [
    "# Course  Objectives \n",
    "\n",
    "* Review fundamentals of machine learning (ML)\n",
    "* Introduce widely used algorithms\n",
    "* Run and modify example code to train ML algorithms\n",
    "* Apply methods for validating algorithm performance to assess generalization\n"
   ]
  },
  {
   "cell_type": "markdown",
   "metadata": {
    "slideshow": {
     "slide_type": "slide"
    }
   },
   "source": [
    "# Who Am I?\n",
    "\n",
    "Lynd Bacon, PhD MBA  \n",
    "Adjunct Associate Professor  \n",
    "Dept. of Internal Medicine & David Eccles School of Business  \n",
    "lynd.bacon@hsc.utah.edu  \n",
    "\n",
    "* Background in academic and commercial research settings\n",
    "* Training in social sciences, neuropsych, business\n",
    "* Teaching data science for Northwestern for the last seven years\n",
    "\n"
   ]
  },
  {
   "cell_type": "markdown",
   "metadata": {
    "slideshow": {
     "slide_type": "slide"
    }
   },
   "source": [
    "# Housekeeping Items\n",
    "\n",
    "* Schedule: luncheon speakers, etc.\n",
    "* Who doesn't have a GitHub user name?"
   ]
  },
  {
   "cell_type": "markdown",
   "metadata": {
    "slideshow": {
     "slide_type": "slide"
    }
   },
   "source": [
    "# Main Topics By Day (tentative)\n",
    "\n",
    "* Day 1, a.m. : Intro, ML definitions, software checkout, linear regression\n",
    "* Day 1, p.m. : Regression, cross-validation. regularization, leakage\n",
    "* Day 2, a.m. : Rescaling transformations, ridge regression\n",
    "* Day 2, p.m. : Lasso, elasticNet\n",
    "* Day 3, a.m. : Classifiers, logistic regression, support vector classifiers\n",
    "* Day 3, p.m. : Bayes classifier, tree models\n",
    "* Day 4; a.m. : Bagging, Random Forest, Boosting, backpropagation, neural networks\n",
    "* Day 4, p.m. : Multilayer perceptrons, convolutional neural networks, things left untouched\n"
   ]
  },
  {
   "cell_type": "markdown",
   "metadata": {
    "slideshow": {
     "slide_type": "slide"
    }
   },
   "source": [
    "<h1>Materials and Resources</h1>\n",
    "\n",
    "* All slides, examples, and code are in Jupyter notebooks\n",
    "* Execute (almost) all code on JupyterHub at https://decart.jupyter.med.utah.edu)\n",
    "    * Python packages you'll need should be installed in the container you run on JupyterHub\n",
    "    * One notebook might be better run on [Google's Colaboratory](https://colab.research.google.com)\n",
    "* Clone content from GitHub repo https://github.com/UUDeCART/DeCART_ML_2019"
   ]
  },
  {
   "cell_type": "markdown",
   "metadata": {
    "slideshow": {
     "slide_type": "slide"
    }
   },
   "source": [
    "# What is Machine Learning?\n",
    "\n",
    "* Machine learning = extracting patterns from data, extrapolating to new data\n",
    "    * Usually for the purpose of _predicting_ data values, but also sometimes for _data reduction_\n",
    "    * The \"learning\" is in regard to parameters in order to optimize a function\n",
    "* Frank Harrell (2018):       \n",
    "_...an algorithmic approach that does not use traditional identified statistical parameters, and for which a preconceived structure is not imposed on the relationships between predictors and outcomes._\n",
    "* Methods from various disciplines, e.g. computer science, statistics\n",
    "* A subset of AI (perhaps). Not all AI methods learn from data"
   ]
  },
  {
   "cell_type": "markdown",
   "metadata": {
    "slideshow": {
     "slide_type": "slide"
    }
   },
   "source": [
    "# What's _Not_ a Machine Learning Problem?\n",
    "\n",
    "* When  _explanation_ is the primary objective\n",
    "* For theory- or hypothesis-testing applications\n",
    "* Causal inference\n",
    "* When uncertainty in _predictions_ needs to be estimated\n",
    "* Where the data generating mechanism can be, or needs to be, specified\n",
    "* When the data aren't \"big\"\n",
    "* When a simple model will do well enough\n",
    "\n",
    "See Frank Harrell's 2018 blog post:  \n",
    "[Road Map for Choosing between Statistical Modeling and Machine Learning](https://www.fharrell.com/post/stat-ml/)"
   ]
  },
  {
   "cell_type": "markdown",
   "metadata": {
    "slideshow": {
     "slide_type": "slide"
    }
   },
   "source": [
    "# Terminology ( \\$10 ML Terms)\n",
    "\n",
    "* Labels\n",
    "* Features\n",
    "* Bias/Variance trade-off\n",
    "* Cross-validation\n",
    "* overfitting\n",
    "* regularization\n",
    "* Parameter tuning\n",
    "* Data leakage\n",
    "* \"No Free Lunch\""
   ]
  },
  {
   "cell_type": "markdown",
   "metadata": {
    "slideshow": {
     "slide_type": "slide"
    }
   },
   "source": [
    "# Main Types of Machine Learning Problems\n",
    "\n",
    "* Supervised  : variables (\"features\") are used to predict values (\"labels\") on another variable (\"target\").\n",
    "* Unsupervised : algorithms applied to group, or _cluster_, observations. No target with labels.\n",
    "* Semi-supervised : Labeled and unlabeled data are used together to facilitate prediction of targets.\n",
    "* Reinforcement learning (RL) : software agent learns to achieve an objective by trial and error learning."
   ]
  },
  {
   "cell_type": "markdown",
   "metadata": {
    "slideshow": {
     "slide_type": "slide"
    }
   },
   "source": [
    "# Python Packages, Libraries, and Platforms for ML\n",
    "\n",
    "* [numpy](https://www.numpy.org/) : array manipulation, linear optimization, other tools\n",
    "* [Pandas](https://pandas.pydata.org/) : data manipulation and analysis package\n",
    "* [matplotlib](https://matplotlib.org/) : 2D plotting library\n",
    "* [seaborn](https://seaborn.pydata.org/) : data visualization library\n",
    "* [scikit-learn](https://scikit-learn.org/stable/) : machine learning library\n",
    "    * [scikit API Reference](https://scikit-learn.org/stable/modules/classes.html)\n",
    "* [scikit-plot](https://scikit-plot.readthedocs.io/en/stable/index.html) : graphics methods complementing parts of scikit-learn.\n",
    "* [tensorflow](https://www.tensorflow.org/) : machine learning platform\n",
    "* [keras](https://keras.io/) : deep learning library\n",
    "* [Google Colaboratory](https://colab.research.google.com/notebooks/welcome.ipynb) : cloud computing platform using Jupyter Notebooks\n",
    "\n",
    "Others may \"emerge\" in the Jupyter Notebooks we'll be using."
   ]
  },
  {
   "cell_type": "markdown",
   "metadata": {
    "slideshow": {
     "slide_type": "slide"
    }
   },
   "source": [
    "# Data\n",
    "\n",
    "Most of what we'll be torturing together:\n",
    "\n",
    "* radon and lung cancer: data on 2881 US Counties, 11 variables (\"features\").\n",
    "    * [radon R documentation](https://lomabuena.info/2K4oJCN).\n",
    "* breast-w WI breast cancer data: 699 cases, 10 variables.\n",
    "    * [WI breast-w data documentation](https://www.openml.org/d/15).\n",
    "* cervical cancer risk factors: 858 cases, 36 variables.\n",
    "    * [UCI cervical CA risk data](https://archive.ics.uci.edu/ml/datasets/Cervical+cancer+%28Risk+Factors%29)\n",
    "* diabetes data : 768 cases, 9 variables.\n",
    "    * [diabetes dataset on openML](https://www.openml.org/d/37)\n",
    "* contraceptive choice: 1473 cases, 9 variables.\n",
    "    * [UCI contraceptive choice data](https://archive.ics.uci.edu/ml/datasets/Cervical+cancer+%28Risk+Factors%29)\n",
    "* Patient satisfaction data: 1811 inpatients, 11 variables.\n",
    "    * internal dataset.\n",
    "* [MNIST](http://yann.lecun.com/exdb/mnist/) digit images data."
   ]
  },
  {
   "cell_type": "markdown",
   "metadata": {
    "slideshow": {
     "slide_type": "slide"
    }
   },
   "source": [
    "# Loss Functions\n",
    "\n",
    "* Most ML algorithms \"learn\" by optimizing some kind of goal or objective function\n",
    "* Many ML algorithms learn using some sort of _gradient descent_ method to minimize _loss_ (i.e. prediction error)\n",
    "    * Common loss measures using for supervised learning problems:\n",
    "        * _Mean Squared Error_ for continuously valued labels\n",
    "        * _Cross-Entropy Loss_ for discrete labels\n",
    "    * The gradient (\"Grad\", $\\nabla$): the set of partial derivatives of the loss function w.r.t. (\"with respect to) the parameters being learned\n",
    "* Sebastian Ruder on the variety of gradient descent methods:  \n",
    "    * [An overview of gradient descent optimization algorithms (paper)](https://arxiv.org/abs/1609.04747)  \n",
    "    * [An overview of gradient descent optimization algorithms (blog)](http://ruder.io/optimizing-gradient-descent/)"
   ]
  },
  {
   "cell_type": "markdown",
   "metadata": {
    "slideshow": {
     "slide_type": "slide"
    }
   },
   "source": [
    "# Have No Fear!\n",
    "\n",
    "The machine learning field is characterized by a fair amount of complexity, and it can be pretty \"weedy.\"  And new developments are coming fast and furious.\n",
    "\n",
    "Keep in mind:\n",
    "\n",
    "* The field is so new that there aren't that many _true_ expects.\n",
    "* There is actually little theory, and so work in machine learning tends to be rather empirical and \"R&D-like.\"\n",
    "* Everyone doing machine learning looks up things all the time.\n",
    "* There's always a better model.  (At least probably.)\n",
    "* A new algorithm born every day.\n",
    "* There's always another Python package that you wish you had used.  \n",
    "\n",
    "Being somewhat fond of fiddling with things until the work, is a help."
   ]
  },
  {
   "cell_type": "markdown",
   "metadata": {
    "slideshow": {
     "slide_type": "slide"
    }
   },
   "source": [
    "# Unresolved, important Issues Remain, Including:  \n",
    "\n",
    "* What should be optimized?\n",
    "* How can unintended consequences from use be avoided?\n",
    "* How should uncertainty be represented?\n",
    "* How can malicious applications be detected, prevented?"
   ]
  },
  {
   "cell_type": "markdown",
   "metadata": {
    "slideshow": {
     "slide_type": "slide"
    }
   },
   "source": [
    "# Let's Get Started: Software Check Out Time\n"
   ]
  }
 ],
 "metadata": {
  "celltoolbar": "Slideshow",
  "hide_input": false,
  "kernelspec": {
   "display_name": "Python 3",
   "language": "python",
   "name": "python3"
  },
  "language_info": {
   "codemirror_mode": {
    "name": "ipython",
    "version": 3
   },
   "file_extension": ".py",
   "mimetype": "text/x-python",
   "name": "python",
   "nbconvert_exporter": "python",
   "pygments_lexer": "ipython3",
   "version": "3.7.3"
  },
  "latex_envs": {
   "LaTeX_envs_menu_present": true,
   "autoclose": false,
   "autocomplete": true,
   "bibliofile": "biblio.bib",
   "cite_by": "apalike",
   "current_citInitial": 1,
   "eqLabelWithNumbers": true,
   "eqNumInitial": 1,
   "hotkeys": {
    "equation": "Ctrl-E",
    "itemize": "Ctrl-I"
   },
   "labels_anchors": false,
   "latex_user_defs": false,
   "report_style_numbering": false,
   "user_envs_cfg": false
  },
  "toc": {
   "base_numbering": 1,
   "nav_menu": {},
   "number_sections": false,
   "sideBar": true,
   "skip_h1_title": false,
   "title_cell": "Table of Contents",
   "title_sidebar": "Contents",
   "toc_cell": false,
   "toc_position": {
    "height": "calc(100% - 180px)",
    "left": "10px",
    "top": "150px",
    "width": "346.6px"
   },
   "toc_section_display": true,
   "toc_window_display": false
  },
  "varInspector": {
   "cols": {
    "lenName": 16,
    "lenType": 16,
    "lenVar": 40
   },
   "kernels_config": {
    "python": {
     "delete_cmd_postfix": "",
     "delete_cmd_prefix": "del ",
     "library": "var_list.py",
     "varRefreshCmd": "print(var_dic_list())"
    },
    "r": {
     "delete_cmd_postfix": ") ",
     "delete_cmd_prefix": "rm(",
     "library": "var_list.r",
     "varRefreshCmd": "cat(var_dic_list()) "
    }
   },
   "types_to_exclude": [
    "module",
    "function",
    "builtin_function_or_method",
    "instance",
    "_Feature"
   ],
   "window_display": false
  }
 },
 "nbformat": 4,
 "nbformat_minor": 2
}
