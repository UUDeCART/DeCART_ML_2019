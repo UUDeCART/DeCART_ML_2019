{
 "cells": [
  {
   "cell_type": "markdown",
   "metadata": {},
   "source": [
    "Creative Commons CC BY 4.0 Lynd Bacon & Associates, Ltd. Not warranted to be suitable for any particular purpose. (You're on your own!)"
   ]
  },
  {
   "cell_type": "markdown",
   "metadata": {},
   "source": [
    "# Multilayer Perceptrons\n",
    "\n",
    "In the following we're going to train MLPs.  We'll start with a modest data set that has a half dozen features, and that we'll train a MLP to predict a binary target variable.  Then we'll train MLPs to predict the labels on digit images that is widely used to test a variety of predictive algorithms.  Both are larger datasets.  NNs have a voracious appetite for data.\n",
    "\n",
    "We'll use the packages [Tensorflow](http://tensorflow.org) and [Keras](https://keras.io/), the latter being well integrated into the former in recent version releases. See [Keras in Tensorflow](https://www.tensorflow.org/beta/guide/keras)."
   ]
  },
  {
   "cell_type": "markdown",
   "metadata": {},
   "source": [
    "# NN  Parameters\n",
    "\n",
    "There are many parameters to set, and to \"tweak\" to try to improve performance.  They include:\n",
    "\n",
    "* Learning rate:  this is the \"step size\" adjustment taken to update the values of weights upon evaluation of the gradient. \n",
    "* Optimizer selection: there are several available.\n",
    "    * For a summary of those available in Tensorflow, see [Tensorflow Optimizers](https://www.tutorialspoint.com/tensorflow/tensorflow_optimizers).\n",
    "* Number of layers.\n",
    "* Number of nodes per layer.\n",
    "* Activation function(s).\n",
    "* Number of epochs: an epoch is a single forward pass and backward pass over the training examples.\n",
    "* Batch size: the number of training examples in an epoch. (Sometimes called a _mini-batch_ to make it clear that the training examples in an epoch may not be the entire set of htem.)\n",
    "\n",
    "If you have 5,000 training examples, and your batch size is 100, an epoch will require fifty (50) iterations.\n",
    "\n",
    "It may be the case that, ceteris paribus, smaller batches will result in better generalization than larger ones. See [On Large-Batch Training for Deep Learning: Generalization Gap and Sharp Minima](https://arxiv.org/abs/1609.04836)."
   ]
  },
  {
   "cell_type": "markdown",
   "metadata": {},
   "source": [
    "# Getting Packages"
   ]
  },
  {
   "cell_type": "code",
   "execution_count": 1,
   "metadata": {},
   "outputs": [],
   "source": [
    "from IPython.core.interactiveshell import InteractiveShell\n",
    "InteractiveShell.ast_node_interactivity = \"all\"\n",
    "from IPython.display import display, Markdown\n",
    "import numpy as np\n",
    "import pandas as pd\n",
    "\n",
    "import matplotlib.pyplot as plt\n",
    "import scikitplot as skplt\n",
    "from sklearn import linear_model\n",
    "from sklearn.model_selection import KFold, StratifiedShuffleSplit\n",
    "from sklearn.model_selection import cross_val_predict, train_test_split\n",
    "from sklearn.model_selection import GridSearchCV\n",
    "from sklearn import preprocessing\n",
    "from sklearn.metrics import accuracy_score, confusion_matrix, roc_auc_score\n",
    "from sklearn.metrics import roc_curve, precision_score, recall_score\n",
    "from sklearn.metrics import classification_report\n",
    "import tensorflow as tf\n",
    "from tensorflow import keras\n",
    "%matplotlib inline\n"
   ]
  },
  {
   "cell_type": "markdown",
   "metadata": {},
   "source": [
    "# Mammography Data: Input and Munging"
   ]
  },
  {
   "cell_type": "code",
   "execution_count": 128,
   "metadata": {
    "collapsed": true
   },
   "outputs": [
    {
     "data": {
      "text/plain": [
       "Index(['attr1', 'attr2', 'attr3', 'attr4', 'attr5', 'attr6', 'class'], dtype='object')"
      ]
     },
     "execution_count": 128,
     "metadata": {},
     "output_type": "execute_result"
    },
    {
     "data": {
      "text/html": [
       "<div>\n",
       "<style scoped>\n",
       "    .dataframe tbody tr th:only-of-type {\n",
       "        vertical-align: middle;\n",
       "    }\n",
       "\n",
       "    .dataframe tbody tr th {\n",
       "        vertical-align: top;\n",
       "    }\n",
       "\n",
       "    .dataframe thead th {\n",
       "        text-align: right;\n",
       "    }\n",
       "</style>\n",
       "<table border=\"1\" class=\"dataframe\">\n",
       "  <thead>\n",
       "    <tr style=\"text-align: right;\">\n",
       "      <th></th>\n",
       "      <th>attr1</th>\n",
       "      <th>attr2</th>\n",
       "      <th>attr3</th>\n",
       "      <th>attr4</th>\n",
       "      <th>attr5</th>\n",
       "      <th>attr6</th>\n",
       "    </tr>\n",
       "  </thead>\n",
       "  <tbody>\n",
       "    <tr>\n",
       "      <th>count</th>\n",
       "      <td>1.118300e+04</td>\n",
       "      <td>1.118300e+04</td>\n",
       "      <td>1.118300e+04</td>\n",
       "      <td>1.118300e+04</td>\n",
       "      <td>1.118300e+04</td>\n",
       "      <td>1.118300e+04</td>\n",
       "    </tr>\n",
       "    <tr>\n",
       "      <th>mean</th>\n",
       "      <td>1.096535e-10</td>\n",
       "      <td>1.297595e-09</td>\n",
       "      <td>5.698113e-10</td>\n",
       "      <td>-2.435705e-09</td>\n",
       "      <td>-1.120680e-09</td>\n",
       "      <td>1.459483e-09</td>\n",
       "    </tr>\n",
       "    <tr>\n",
       "      <th>std</th>\n",
       "      <td>1.000000e+00</td>\n",
       "      <td>1.000000e+00</td>\n",
       "      <td>1.000000e+00</td>\n",
       "      <td>1.000000e+00</td>\n",
       "      <td>1.000000e+00</td>\n",
       "      <td>1.000000e+00</td>\n",
       "    </tr>\n",
       "    <tr>\n",
       "      <th>min</th>\n",
       "      <td>-7.844148e-01</td>\n",
       "      <td>-4.701953e-01</td>\n",
       "      <td>-5.916315e-01</td>\n",
       "      <td>-8.595525e-01</td>\n",
       "      <td>-3.778657e-01</td>\n",
       "      <td>-9.457232e-01</td>\n",
       "    </tr>\n",
       "    <tr>\n",
       "      <th>25%</th>\n",
       "      <td>-7.844148e-01</td>\n",
       "      <td>-4.701953e-01</td>\n",
       "      <td>-5.916315e-01</td>\n",
       "      <td>-8.595525e-01</td>\n",
       "      <td>-3.778657e-01</td>\n",
       "      <td>-9.457232e-01</td>\n",
       "    </tr>\n",
       "    <tr>\n",
       "      <th>50%</th>\n",
       "      <td>-1.085769e-01</td>\n",
       "      <td>-3.949941e-01</td>\n",
       "      <td>-2.309790e-01</td>\n",
       "      <td>-8.595525e-01</td>\n",
       "      <td>-3.778657e-01</td>\n",
       "      <td>-9.457232e-01</td>\n",
       "    </tr>\n",
       "    <tr>\n",
       "      <th>75%</th>\n",
       "      <td>3.139489e-01</td>\n",
       "      <td>-7.649473e-02</td>\n",
       "      <td>2.198366e-01</td>\n",
       "      <td>8.202077e-01</td>\n",
       "      <td>-3.778657e-01</td>\n",
       "      <td>1.016613e+00</td>\n",
       "    </tr>\n",
       "    <tr>\n",
       "      <th>max</th>\n",
       "      <td>3.150844e+01</td>\n",
       "      <td>5.085849e+00</td>\n",
       "      <td>2.947777e+01</td>\n",
       "      <td>9.591164e+00</td>\n",
       "      <td>2.361712e+01</td>\n",
       "      <td>1.949027e+00</td>\n",
       "    </tr>\n",
       "  </tbody>\n",
       "</table>\n",
       "</div>"
      ],
      "text/plain": [
       "              attr1         attr2         attr3         attr4         attr5  \\\n",
       "count  1.118300e+04  1.118300e+04  1.118300e+04  1.118300e+04  1.118300e+04   \n",
       "mean   1.096535e-10  1.297595e-09  5.698113e-10 -2.435705e-09 -1.120680e-09   \n",
       "std    1.000000e+00  1.000000e+00  1.000000e+00  1.000000e+00  1.000000e+00   \n",
       "min   -7.844148e-01 -4.701953e-01 -5.916315e-01 -8.595525e-01 -3.778657e-01   \n",
       "25%   -7.844148e-01 -4.701953e-01 -5.916315e-01 -8.595525e-01 -3.778657e-01   \n",
       "50%   -1.085769e-01 -3.949941e-01 -2.309790e-01 -8.595525e-01 -3.778657e-01   \n",
       "75%    3.139489e-01 -7.649473e-02  2.198366e-01  8.202077e-01 -3.778657e-01   \n",
       "max    3.150844e+01  5.085849e+00  2.947777e+01  9.591164e+00  2.361712e+01   \n",
       "\n",
       "              attr6  \n",
       "count  1.118300e+04  \n",
       "mean   1.459483e-09  \n",
       "std    1.000000e+00  \n",
       "min   -9.457232e-01  \n",
       "25%   -9.457232e-01  \n",
       "50%   -9.457232e-01  \n",
       "75%    1.016613e+00  \n",
       "max    1.949027e+00  "
      ]
     },
     "execution_count": 128,
     "metadata": {},
     "output_type": "execute_result"
    },
    {
     "data": {
      "text/plain": [
       "'-1'    10923\n",
       "'1'       260\n",
       "Name: class, dtype: int64"
      ]
     },
     "execution_count": 128,
     "metadata": {},
     "output_type": "execute_result"
    }
   ],
   "source": [
    "mammogram = pd.read_csv('DATA/ML/mammography.csv')\n",
    "mammogram.columns\n",
    "mammogram.describe()\n",
    "mammogram['class'].value_counts()"
   ]
  },
  {
   "cell_type": "markdown",
   "metadata": {},
   "source": [
    "_class_ is the target variable.  Its two categories are labeled as '-1' and '1'.  Let's create a new target by coded 0 and 1, and then we'll drop _class_. "
   ]
  },
  {
   "cell_type": "code",
   "execution_count": 3,
   "metadata": {
    "collapsed": true
   },
   "outputs": [
    {
     "data": {
      "text/plain": [
       "0    10923\n",
       "1      260\n",
       "Name: target, dtype: int64"
      ]
     },
     "execution_count": 3,
     "metadata": {},
     "output_type": "execute_result"
    },
    {
     "data": {
      "text/plain": [
       "Index(['attr1', 'attr2', 'attr3', 'attr4', 'attr5', 'attr6', 'target'], dtype='object')"
      ]
     },
     "execution_count": 3,
     "metadata": {},
     "output_type": "execute_result"
    }
   ],
   "source": [
    "mammogram['target']=mammogram['class'].replace({\"'-1'\":0,\"'1'\":1})\n",
    "mammogram.target.value_counts()\n",
    "mammogram2=mammogram.drop('class',axis=1)\n",
    "mammogram2.columns"
   ]
  },
  {
   "cell_type": "code",
   "execution_count": 4,
   "metadata": {},
   "outputs": [],
   "source": [
    "## Create numpy arrays\n",
    "\n",
    "X=mammogram.iloc[:,:6].to_numpy()  # features\n",
    "y=pd.get_dummies(mammogram.target)\n",
    "# y.sum(axis=0)\n",
    "y=y.to_numpy()   # target"
   ]
  },
  {
   "cell_type": "markdown",
   "metadata": {},
   "source": [
    "# Training, Test, and Validation Splits \n",
    "\n",
    "We'll use 80% of the data for training and testing, and the remaining 20% for final validation of the model."
   ]
  },
  {
   "cell_type": "code",
   "execution_count": 5,
   "metadata": {},
   "outputs": [],
   "source": [
    "np.random.seed(99)"
   ]
  },
  {
   "cell_type": "code",
   "execution_count": 6,
   "metadata": {},
   "outputs": [],
   "source": [
    "stratSplit=StratifiedShuffleSplit(\n",
    "        n_splits=1,\n",
    "        test_size=0.40,\n",
    "        random_state=99\n",
    "        )\n",
    "for trainNdx,testNdx in stratSplit.split(X,y):\n",
    "    X_train=X[trainNdx]\n",
    "    y_train=y[trainNdx]\n",
    "    X_test0=X[testNdx]\n",
    "    y_test0=y[testNdx]\n",
    "    \n"
   ]
  },
  {
   "cell_type": "code",
   "execution_count": 7,
   "metadata": {},
   "outputs": [],
   "source": [
    "stratSplit=StratifiedShuffleSplit(\n",
    "        n_splits=1,\n",
    "        test_size=0.50,\n",
    "        random_state=99\n",
    "            )\n",
    "for valNdx, testNdx in stratSplit.split(X_test0,y_test0):\n",
    "        X_valid=X_test0[valNdx]\n",
    "        y_valid=y_test0[valNdx]\n",
    "        X_test=X_test0[testNdx]\n",
    "        y_test=y_test0[testNdx]\n"
   ]
  },
  {
   "cell_type": "markdown",
   "metadata": {},
   "source": [
    "# MLP with Tensorflow and Keras \n",
    "\n",
    "We'll being with training a single hidden layer feedforward NLP that predicts our target variable using the six features attr1 through attr6 as inputs.\n",
    "\n",
    "A \"Sequential\" Keras model is just a \"stack\" of layers connected sequentially."
   ]
  },
  {
   "cell_type": "markdown",
   "metadata": {},
   "source": [
    "## Network Specification"
   ]
  },
  {
   "cell_type": "code",
   "execution_count": 77,
   "metadata": {},
   "outputs": [],
   "source": [
    "# You can use the following to reset the graph, or to wipe it out completely.\n",
    "keras.backend.clear_session()  # this resets\n",
    " #del(mlp)                       # this deletes the graph"
   ]
  },
  {
   "cell_type": "code",
   "execution_count": 78,
   "metadata": {},
   "outputs": [],
   "source": [
    "\n",
    "mlp = keras.models.Sequential() #stacked layers \n",
    "mlp.add(keras.layers.Dense(4,activation='relu',input_shape=(6,))) # six features per row in X\n",
    "mlp.add(keras.layers.Dense(2,activation=\"softmax\"))  # output layer: two categories, normalized to get probs"
   ]
  },
  {
   "cell_type": "code",
   "execution_count": 79,
   "metadata": {},
   "outputs": [
    {
     "data": {
      "text/plain": [
       "[<tensorflow.python.keras.layers.core.Dense at 0x7f5e9b70c550>,\n",
       " <tensorflow.python.keras.layers.core.Dense at 0x7f5e9b70c7f0>]"
      ]
     },
     "execution_count": 79,
     "metadata": {},
     "output_type": "execute_result"
    }
   ],
   "source": [
    "# Verifying the layers\n",
    "mlp.layers "
   ]
  },
  {
   "cell_type": "code",
   "execution_count": 80,
   "metadata": {
    "collapsed": true
   },
   "outputs": [
    {
     "name": "stdout",
     "output_type": "stream",
     "text": [
      "_________________________________________________________________\n",
      "Layer (type)                 Output Shape              Param #   \n",
      "=================================================================\n",
      "dense (Dense)                (None, 4)                 28        \n",
      "_________________________________________________________________\n",
      "dense_1 (Dense)              (None, 2)                 10        \n",
      "=================================================================\n",
      "Total params: 38\n",
      "Trainable params: 38\n",
      "Non-trainable params: 0\n",
      "_________________________________________________________________\n"
     ]
    }
   ],
   "source": [
    "mlp.summary()"
   ]
  },
  {
   "cell_type": "code",
   "execution_count": 81,
   "metadata": {},
   "outputs": [],
   "source": [
    "## compile the network\n",
    "\n",
    "mlp.compile(loss='categorical_crossentropy',\n",
    "           optimizer='sgd',\n",
    "           metrics=['accuracy'])\n"
   ]
  },
  {
   "cell_type": "markdown",
   "metadata": {},
   "source": [
    "_sdg_, above is \"stochastic gradient descent.\"\n",
    "\n",
    "Keras provides a number of predefined loss functions.  See:\n",
    "\n",
    "[Keras Loss Functions](https://keras.io/losses/)\n",
    "\n",
    "Metrics:\n",
    "\n",
    "[Keras metrics](https://keras.io/metrics/)"
   ]
  },
  {
   "cell_type": "markdown",
   "metadata": {},
   "source": [
    "## Training\n",
    "\n",
    "Output epoch by epoch is surpressed by _verbose_=0."
   ]
  },
  {
   "cell_type": "code",
   "execution_count": 82,
   "metadata": {},
   "outputs": [],
   "source": [
    "mlpTraining=mlp.fit(X_train,y_train,epochs=50,verbose=0,\n",
    "                   validation_data=(X_test,y_test))"
   ]
  },
  {
   "cell_type": "markdown",
   "metadata": {},
   "source": [
    "## Training By Epoch"
   ]
  },
  {
   "cell_type": "code",
   "execution_count": 83,
   "metadata": {
    "collapsed": true
   },
   "outputs": [
    {
     "data": {
      "image/png": "[encoded data removed]",
      "text/plain": [
       "<Figure size 576x360 with 1 Axes>"
      ]
     },
     "metadata": {
      "needs_background": "light"
     },
     "output_type": "display_data"
    }
   ],
   "source": [
    "historyDF=pd.DataFrame(mlp.history.history)\n",
    "historyDF.plot(figsize=(8,5))\n",
    "plt.grid(True)\n",
    "plt.gca().set_ylim(0,1)\n",
    "plt.title(\"Training and Test Metrics by Epoch\")\n",
    "plt.xlabel('Epoch Number')\n",
    "plt.show();"
   ]
  },
  {
   "cell_type": "markdown",
   "metadata": {},
   "source": [
    "It looks like training had \"converged\" by about half way through the epochs.  _But do you see anything odd?_"
   ]
  },
  {
   "cell_type": "code",
   "execution_count": 84,
   "metadata": {
    "collapsed": true
   },
   "outputs": [
    {
     "data": {
      "image/png": "[encoded data removed]",
      "text/plain": [
       "<Figure size 576x360 with 1 Axes>"
      ]
     },
     "metadata": {
      "needs_background": "light"
     },
     "output_type": "display_data"
    }
   ],
   "source": [
    "historyDF=pd.DataFrame(mlp.history.history).iloc[:6,:]\n",
    "historyDF.plot(figsize=(8,5))\n",
    "plt.grid(True)\n",
    "plt.gca().set_ylim(0,1)\n",
    "plt.title(\"Training and Test Metrics by Epoch\")\n",
    "plt.xlabel('Epoch Number')\n",
    "plt.show();"
   ]
  },
  {
   "cell_type": "markdown",
   "metadata": {},
   "source": [
    "Note that the training and test metrics are not computed at the same time.  The training metrics are computed during an epoch.  The test metrics are computed at the _end_ of an epoch.  So the training measures should be shifted to the left w.r.t. the test metrics."
   ]
  },
  {
   "cell_type": "markdown",
   "metadata": {},
   "source": [
    "## Evaluation\n",
    "\n",
    "Loss and accuracy on the test data."
   ]
  },
  {
   "cell_type": "code",
   "execution_count": 85,
   "metadata": {},
   "outputs": [
    {
     "name": "stdout",
     "output_type": "stream",
     "text": [
      "Test Data: loss 0.051 accuracy 0.985\n"
     ]
    }
   ],
   "source": [
    "testEval=mlp.evaluate(X_test,y_test,verbose=0)\n",
    "print(\"Test Data: loss {:1.3f} accuracy {:1.3f}\".format(testEval[0],testEval[1]))"
   ]
  },
  {
   "cell_type": "markdown",
   "metadata": {},
   "source": [
    "Loss and accuracy on the _validation_ data."
   ]
  },
  {
   "cell_type": "code",
   "execution_count": 86,
   "metadata": {},
   "outputs": [
    {
     "name": "stdout",
     "output_type": "stream",
     "text": [
      "Validation Data: loss 0.064 accuracy 0.983\n"
     ]
    }
   ],
   "source": [
    "valEval=mlp.evaluate(X_valid,y_valid,verbose=0)\n",
    "print(\"Validation Data: loss {:1.3f} accuracy {:1.3f}\".format(valEval[0],valEval[1]))"
   ]
  },
  {
   "cell_type": "markdown",
   "metadata": {},
   "source": [
    "## Prediction\n",
    "\n",
    "This is done pretty much like with scikit-learn methods.\n",
    "\n",
    "Let's predict using the validation data."
   ]
  },
  {
   "cell_type": "code",
   "execution_count": 87,
   "metadata": {},
   "outputs": [
    {
     "data": {
      "text/plain": [
       "0    2218\n",
       "1      19\n",
       "dtype: int64"
      ]
     },
     "execution_count": 87,
     "metadata": {},
     "output_type": "execute_result"
    }
   ],
   "source": [
    "y_pred=mlp.predict_classes(X_valid)\n",
    "pd.Series(y_pred).value_counts()"
   ]
  },
  {
   "cell_type": "markdown",
   "metadata": {},
   "source": [
    "## Confusion!"
   ]
  },
  {
   "cell_type": "code",
   "execution_count": 88,
   "metadata": {},
   "outputs": [
    {
     "data": {
      "text/plain": [
       "array([[2182,    3],\n",
       "       [  36,   16]])"
      ]
     },
     "execution_count": 88,
     "metadata": {},
     "output_type": "execute_result"
    }
   ],
   "source": [
    "confusion_matrix(y_valid[:,1],y_pred)"
   ]
  },
  {
   "cell_type": "markdown",
   "metadata": {},
   "source": [
    "## Classification Summary"
   ]
  },
  {
   "cell_type": "code",
   "execution_count": 89,
   "metadata": {
    "collapsed": true
   },
   "outputs": [
    {
     "name": "stdout",
     "output_type": "stream",
     "text": [
      "Classification Summary Based on Validation Data\n",
      "\n",
      "              precision    recall  f1-score   support\n",
      "\n",
      "           0       0.98      1.00      0.99      2185\n",
      "           1       0.84      0.31      0.45        52\n",
      "\n",
      "    accuracy                           0.98      2237\n",
      "   macro avg       0.91      0.65      0.72      2237\n",
      "weighted avg       0.98      0.98      0.98      2237\n",
      "\n"
     ]
    }
   ],
   "source": [
    "print(\"Classification Summary Based on Validation Data\\n\")\n",
    "print(classification_report(y_valid[:,1],y_pred))"
   ]
  },
  {
   "cell_type": "markdown",
   "metadata": {},
   "source": [
    "## Predicted Probabilities"
   ]
  },
  {
   "cell_type": "code",
   "execution_count": 90,
   "metadata": {
    "collapsed": true
   },
   "outputs": [
    {
     "data": {
      "text/plain": [
       "count    2.237000e+03\n",
       "mean     2.316242e-02\n",
       "std      8.215000e-02\n",
       "min      5.236859e-11\n",
       "25%      1.275275e-03\n",
       "50%      4.671413e-03\n",
       "75%      1.382906e-02\n",
       "max      9.945709e-01\n",
       "dtype: float64"
      ]
     },
     "execution_count": 90,
     "metadata": {},
     "output_type": "execute_result"
    }
   ],
   "source": [
    "y_predProb=mlp.predict_proba(X_valid)\n",
    "pd.Series(y_predProb[:,1]).describe()"
   ]
  },
  {
   "cell_type": "code",
   "execution_count": 91,
   "metadata": {
    "collapsed": true
   },
   "outputs": [
    {
     "data": {
      "text/plain": [
       "(2237, 2)"
      ]
     },
     "execution_count": 91,
     "metadata": {},
     "output_type": "execute_result"
    },
    {
     "data": {
      "text/plain": [
       "(2237, 2)"
      ]
     },
     "execution_count": 91,
     "metadata": {},
     "output_type": "execute_result"
    }
   ],
   "source": [
    "y_valid.shape\n",
    "y_predProb.shape"
   ]
  },
  {
   "cell_type": "markdown",
   "metadata": {},
   "source": [
    "## ROC, AUC \n",
    "\n",
    "Note that \"skplt.metrics.plot_roc()\" expects a _matrix_ of predicted probabilities, one col per class."
   ]
  },
  {
   "cell_type": "code",
   "execution_count": 92,
   "metadata": {
    "collapsed": true
   },
   "outputs": [
    {
     "data": {
      "image/png": "[encoded data removed]",
      "text/plain": [
       "<Figure size 504x504 with 1 Axes>"
      ]
     },
     "metadata": {
      "needs_background": "light"
     },
     "output_type": "display_data"
    }
   ],
   "source": [
    "skplt.metrics.plot_roc(y_valid[:,1], y_predProb, title=\"Validation Data ROC\",\n",
    "                      figsize=(7,7),\n",
    "                      plot_micro=False,\n",
    "                      classes_to_plot=1)\n",
    "plt.show();"
   ]
  },
  {
   "cell_type": "markdown",
   "metadata": {},
   "source": [
    "## Unbalanced Target Labels\n",
    "\n",
    "You can see that this MLP has difficulty with unbalanced labels. Here's something to try;"
   ]
  },
  {
   "cell_type": "markdown",
   "metadata": {},
   "source": [
    "# A UDU: Train the MLP By Weighting Observations\n",
    "\n",
    "One of the ways that can help training on data like this is to weight observations' contributions to the loss function based on how frequent, or infrequent, they are.  The Keras [fit function](https://keras.io/models/model/#fit) has an option _class weight_ that can be defined by a dict that maps weights to cases.  It should look something like {0:wt0, 1:wt1}, where wt0 and wt1 are weights (float) to be used for labels 0 and 1, respectively. See if you can apply this kind of weighting of the loss function when retraining the MLP, above.\n",
    "\n",
    "One question is, what data should be used to calculate the weights?"
   ]
  },
  {
   "cell_type": "markdown",
   "metadata": {},
   "source": [
    "# Another UDU: See If you Can Improve the MLP \n",
    "\n",
    "Can you improve the MLP, above, by adding layers to it?  By changing the number of nodes per layer? By using different learning rates? Using different activation functions?"
   ]
  },
  {
   "cell_type": "markdown",
   "metadata": {},
   "source": [
    "# Regularization by \"Dropout\"\n",
    "\n",
    "Several different methods for regularizing neural networks can be used. One of them consists of randomly removing, \"or dropping out,\" individual neurons during training.  This effectively sets the outputs of these neurons doing an training iteration.  It's thought that doing this causes neurons to be less specialized.\n",
    "\n",
    "Let's try applying drop-out to a hidden layer of a version of the MLP that's above, A two hidden layer MLP.  The drop-out will be between the 1<sup>st</sup> and the 2<sup>nd</sup> hidden layers."
   ]
  },
  {
   "cell_type": "markdown",
   "metadata": {},
   "source": [
    "## 3L Network Specification With Dropout, p(Dropout=0.20)"
   ]
  },
  {
   "cell_type": "code",
   "execution_count": 107,
   "metadata": {},
   "outputs": [],
   "source": [
    "# del mlp2\n",
    "keras.backend.clear_session()  # this resets\n",
    "mlp2 = keras.models.Sequential() #stacked layers \n",
    "mlp2.add(keras.layers.Dense(6,activation='relu',input_shape=(6,))) # six features per row in X\n",
    "mlp2.add(keras.layers.Dropout(0.2))\n",
    "mlp2.add(keras.layers.Dense(4,activation='relu'))\n",
    "mlp2.add(keras.layers.Dense(2,activation=\"softmax\"))  # output layer: two categories, normalized to get probs"
   ]
  },
  {
   "cell_type": "code",
   "execution_count": 103,
   "metadata": {
    "collapsed": true
   },
   "outputs": [
    {
     "name": "stdout",
     "output_type": "stream",
     "text": [
      "_________________________________________________________________\n",
      "Layer (type)                 Output Shape              Param #   \n",
      "=================================================================\n",
      "dense (Dense)                (None, 6)                 42        \n",
      "_________________________________________________________________\n",
      "dropout (Dropout)            (None, 6)                 0         \n",
      "_________________________________________________________________\n",
      "dense_1 (Dense)              (None, 4)                 28        \n",
      "_________________________________________________________________\n",
      "dense_2 (Dense)              (None, 2)                 10        \n",
      "=================================================================\n",
      "Total params: 80\n",
      "Trainable params: 80\n",
      "Non-trainable params: 0\n",
      "_________________________________________________________________\n"
     ]
    }
   ],
   "source": [
    "mlp2.summary()"
   ]
  },
  {
   "cell_type": "markdown",
   "metadata": {},
   "source": [
    "## Compiling"
   ]
  },
  {
   "cell_type": "code",
   "execution_count": 108,
   "metadata": {},
   "outputs": [],
   "source": [
    "mlp2.compile(loss='categorical_crossentropy',\n",
    "           optimizer='sgd',\n",
    "           metrics=['accuracy'])\n"
   ]
  },
  {
   "cell_type": "markdown",
   "metadata": {},
   "source": [
    "## Training"
   ]
  },
  {
   "cell_type": "code",
   "execution_count": 109,
   "metadata": {},
   "outputs": [],
   "source": [
    "mlp2Training=mlp2.fit(X_train,y_train,epochs=50,verbose=0,\n",
    "                   validation_data=(X_test,y_test))"
   ]
  },
  {
   "cell_type": "markdown",
   "metadata": {},
   "source": [
    "## Evaluation Using Validation Data"
   ]
  },
  {
   "cell_type": "code",
   "execution_count": 110,
   "metadata": {},
   "outputs": [
    {
     "name": "stdout",
     "output_type": "stream",
     "text": [
      "Validation Data: loss 0.068 accuracy 0.980\n"
     ]
    }
   ],
   "source": [
    "valEval2=mlp2.evaluate(X_valid,y_valid,verbose=0)\n",
    "print(\"Validation Data: loss {:1.3f} accuracy {:1.3f}\".format(valEval2[0],valEval2[1]))"
   ]
  },
  {
   "cell_type": "markdown",
   "metadata": {},
   "source": [
    "## Confusion Again!"
   ]
  },
  {
   "cell_type": "code",
   "execution_count": 111,
   "metadata": {},
   "outputs": [
    {
     "data": {
      "text/plain": [
       "0    2225\n",
       "1      12\n",
       "dtype: int64"
      ]
     },
     "execution_count": 111,
     "metadata": {},
     "output_type": "execute_result"
    }
   ],
   "source": [
    "y_pred2=mlp2.predict_classes(X_valid)\n",
    "pd.Series(y_pred2).value_counts()"
   ]
  },
  {
   "cell_type": "code",
   "execution_count": 112,
   "metadata": {},
   "outputs": [
    {
     "data": {
      "text/plain": [
       "array([[2183,    2],\n",
       "       [  42,   10]])"
      ]
     },
     "execution_count": 112,
     "metadata": {},
     "output_type": "execute_result"
    }
   ],
   "source": [
    "confusion_matrix(y_valid[:,1],y_pred2)"
   ]
  },
  {
   "cell_type": "code",
   "execution_count": 113,
   "metadata": {
    "collapsed": true
   },
   "outputs": [
    {
     "name": "stdout",
     "output_type": "stream",
     "text": [
      "Classification Summary Based on Validation Data\n",
      "\n",
      "              precision    recall  f1-score   support\n",
      "\n",
      "           0       0.98      1.00      0.99      2185\n",
      "           1       0.83      0.19      0.31        52\n",
      "\n",
      "    accuracy                           0.98      2237\n",
      "   macro avg       0.91      0.60      0.65      2237\n",
      "weighted avg       0.98      0.98      0.97      2237\n",
      "\n"
     ]
    }
   ],
   "source": [
    "print(\"Classification Summary Based on Validation Data\\n\")\n",
    "print(classification_report(y_valid[:,1],y_pred2))"
   ]
  },
  {
   "cell_type": "markdown",
   "metadata": {},
   "source": [
    "## Predicted Probabilities"
   ]
  },
  {
   "cell_type": "code",
   "execution_count": 114,
   "metadata": {},
   "outputs": [],
   "source": [
    "# predicted probabilities\n",
    "y_predProb2=mlp2.predict_proba(X_valid)"
   ]
  },
  {
   "cell_type": "markdown",
   "metadata": {},
   "source": [
    "## ROC, AUC"
   ]
  },
  {
   "cell_type": "code",
   "execution_count": 115,
   "metadata": {
    "collapsed": true
   },
   "outputs": [
    {
     "data": {
      "image/png": "[encoded data removed]",
      "text/plain": [
       "<Figure size 504x504 with 1 Axes>"
      ]
     },
     "metadata": {
      "needs_background": "light"
     },
     "output_type": "display_data"
    }
   ],
   "source": [
    "skplt.metrics.plot_roc(y_valid[:,1], y_predProb2, title=\"Validation Data ROC\",\n",
    "                      figsize=(7,7),\n",
    "                      plot_micro=False,\n",
    "                      classes_to_plot=1)\n",
    "plt.show();"
   ]
  },
  {
   "cell_type": "markdown",
   "metadata": {},
   "source": [
    "# \"Tweaking\" Dropout Regularization\n",
    "\n",
    "* Dropout can be applied to input layers.\n",
    "* It will be more beneficial when applied to larger, rather than smaller, networks.\n",
    "* Dropout rates that are smaller, e.g. < 0.50, will tend to provide more benefit."
   ]
  },
  {
   "cell_type": "markdown",
   "metadata": {},
   "source": [
    "## UDU:  Try Additional Dropouts\n",
    "\n",
    "See if you can bump up the AUC of the above."
   ]
  },
  {
   "cell_type": "markdown",
   "metadata": {},
   "source": [
    "# Saving and Restoring A Model\n",
    "\n",
    "This can be handy if it takes a long time to train a model, or if you have a model you want to use again later."
   ]
  },
  {
   "cell_type": "raw",
   "metadata": {},
   "source": [
    "# It turns out that some versions of keras have difficulty \n",
    "\n",
    "#Alternative: \n",
    "\n",
    "model_path = \"yourpath.hdf5\"  # it contains the architecture and the weights\n",
    "model = create_model(...)  # the same cond you used to create the model before training\n",
    "model.load_weights(model_path)"
   ]
  },
  {
   "cell_type": "code",
   "execution_count": 116,
   "metadata": {},
   "outputs": [],
   "source": [
    "mlp2.save('my_mlp2_model.h5')"
   ]
  },
  {
   "cell_type": "code",
   "execution_count": 118,
   "metadata": {
    "collapsed": true
   },
   "outputs": [
    {
     "name": "stdout",
     "output_type": "stream",
     "text": [
      "_________________________________________________________________\n",
      "Layer (type)                 Output Shape              Param #   \n",
      "=================================================================\n",
      "dense (Dense)                (None, 6)                 42        \n",
      "_________________________________________________________________\n",
      "dropout (Dropout)            (None, 6)                 0         \n",
      "_________________________________________________________________\n",
      "dense_1 (Dense)              (None, 4)                 28        \n",
      "_________________________________________________________________\n",
      "dense_2 (Dense)              (None, 2)                 10        \n",
      "=================================================================\n",
      "Total params: 80\n",
      "Trainable params: 80\n",
      "Non-trainable params: 0\n",
      "_________________________________________________________________\n"
     ]
    }
   ],
   "source": [
    "mlp2IsBack=keras.models.load_model('my_mlp2_model.h5')\n",
    "mlp2IsBack.summary()"
   ]
  },
  {
   "cell_type": "markdown",
   "metadata": {},
   "source": [
    "# Early Stopping\n",
    "\n",
    "This is a regularization method based on the idea that a better model can be obtained by not _over-training_.  It can be observed that when using gradient ascent models it's possible to train a model so much that it's performance on held out validation data starts getting worse and worse.  In the following we're going to apply a simple procedure to find the \"best\" a priori specified MLP model by discovering the epoch of the model the provides the best results.  Note that early stopping can be used with all sorts of gradient descent methods."
   ]
  },
  {
   "cell_type": "code",
   "execution_count": 136,
   "metadata": {},
   "outputs": [],
   "source": [
    "# Sequential Layers\n",
    "keras.backend.clear_session()  # this resets\n",
    "mlp3 = keras.models.Sequential() #stacked layers\n",
    "# mlp3.add(keras.layers.InputLayer(input_shape=[6,]))  \n",
    "mlp3.add(keras.layers.Dense(4,activation='relu',input_shape=(6,)))  # six features per row in X\n",
    "mlp3.add(keras.layers.Dense(3,activation='relu'))\n",
    "mlp3.add(keras.layers.Dense(2,activation=\"softmax\"))  # output layer: two categories, normalized to get probs"
   ]
  },
  {
   "cell_type": "code",
   "execution_count": 137,
   "metadata": {},
   "outputs": [],
   "source": [
    "# Compiling the network\n",
    "\n",
    "mlp3.compile(loss='categorical_crossentropy',\n",
    "           optimizer='sgd',\n",
    "           metrics=['accuracy'])\n"
   ]
  },
  {
   "cell_type": "markdown",
   "metadata": {},
   "source": [
    "## Using Callbacks\n",
    "\n",
    "One way to do early stopping is to write out the results of training epochs to a file, and then use the file's contents to identify how much training provides the best results.  Alternatively, you can just save the best performing model.  Let's do that, here."
   ]
  },
  {
   "cell_type": "code",
   "execution_count": 138,
   "metadata": {},
   "outputs": [],
   "source": [
    "checkpoint_cb=keras.callbacks.ModelCheckpoint('my_mlp3_model.h5',\n",
    "                        save_best_only=True)\n",
    "history=mlp3.fit(X_train,y_train,epochs=100,verbose=0,\n",
    "                validation_data=(X_valid,y_valid),\n",
    "                callbacks=[checkpoint_cb])"
   ]
  },
  {
   "cell_type": "raw",
   "metadata": {},
   "source": [
    "# This version should work if your Keras version is 2.2.3+\n",
    "# It will run until fit on test data doesn't improve\n",
    "\n",
    "early_stopping_cb=keras.callbacks.EarlyStopping(\n",
    "                patience=10,restore_best_weights=True)   # stop when criterion doesn't improve for 10 epochs\n",
    "\n",
    "history=mlp3.fit(X_train,y_train,epochs=500,verbose=0,\n",
    "                validation_data=(X_valid,y_valid),\n",
    "                callbacks=[checkpoint_cb,early_stopping_cb])  # save both best, and checkpoints up to it."
   ]
  },
  {
   "cell_type": "code",
   "execution_count": 143,
   "metadata": {},
   "outputs": [],
   "source": [
    "bestModel=keras.models.load_model('my_mlp3_model.h5')"
   ]
  },
  {
   "cell_type": "code",
   "execution_count": 147,
   "metadata": {},
   "outputs": [
    {
     "name": "stdout",
     "output_type": "stream",
     "text": [
      "Best model loss, accuracy:\n"
     ]
    },
    {
     "data": {
      "text/plain": [
       "[0.06063314465781741, 0.9830129637907913]"
      ]
     },
     "execution_count": 147,
     "metadata": {},
     "output_type": "execute_result"
    }
   ],
   "source": [
    "print(\"Best model loss, accuracy:\")\n",
    "bestModel.evaluate(X_valid,y_valid,verbose=0)"
   ]
  },
  {
   "cell_type": "markdown",
   "metadata": {},
   "source": [
    "## Different Answers Based on the Method: Why?"
   ]
  },
  {
   "cell_type": "code",
   "execution_count": 140,
   "metadata": {
    "collapsed": true
   },
   "outputs": [
    {
     "data": {
      "text/plain": [
       "val_loss    0.060633\n",
       "val_acc     0.983013\n",
       "loss        0.060706\n",
       "acc         0.982710\n",
       "Name: 99, dtype: float64"
      ]
     },
     "execution_count": 140,
     "metadata": {},
     "output_type": "execute_result"
    }
   ],
   "source": [
    "pd.DataFrame(history.history).sort_values(by=[\"val_acc\"],ascending=False).iloc[0,:]"
   ]
  },
  {
   "cell_type": "code",
   "execution_count": 141,
   "metadata": {
    "collapsed": true
   },
   "outputs": [
    {
     "data": {
      "text/plain": [
       "val_loss    0.061551\n",
       "val_acc     0.983013\n",
       "loss        0.061554\n",
       "acc         0.979431\n",
       "Name: 94, dtype: float64"
      ]
     },
     "execution_count": 141,
     "metadata": {},
     "output_type": "execute_result"
    }
   ],
   "source": [
    "historyDF=pd.DataFrame(history.history)\n",
    "historyDF.iloc[historyDF.val_acc.idxmax(),:]"
   ]
  }
 ],
 "metadata": {
  "hide_input": false,
  "kernelspec": {
   "display_name": "Python 3",
   "language": "python",
   "name": "python3"
  },
  "language_info": {
   "codemirror_mode": {
    "name": "ipython",
    "version": 3
   },
   "file_extension": ".py",
   "mimetype": "text/x-python",
   "name": "python",
   "nbconvert_exporter": "python",
   "pygments_lexer": "ipython3",
   "version": "3.6.8"
  },
  "latex_envs": {
   "LaTeX_envs_menu_present": true,
   "autoclose": false,
   "autocomplete": true,
   "bibliofile": "biblio.bib",
   "cite_by": "apalike",
   "current_citInitial": 1,
   "eqLabelWithNumbers": true,
   "eqNumInitial": 1,
   "hotkeys": {
    "equation": "Ctrl-E",
    "itemize": "Ctrl-I"
   },
   "labels_anchors": false,
   "latex_user_defs": false,
   "report_style_numbering": false,
   "user_envs_cfg": false
  },
  "toc": {
   "base_numbering": 1,
   "nav_menu": {},
   "number_sections": false,
   "sideBar": false,
   "skip_h1_title": false,
   "title_cell": "Table of Contents",
   "title_sidebar": "Contents",
   "toc_cell": false,
   "toc_position": {},
   "toc_section_display": false,
   "toc_window_display": false
  }
 },
 "nbformat": 4,
 "nbformat_minor": 2
}
